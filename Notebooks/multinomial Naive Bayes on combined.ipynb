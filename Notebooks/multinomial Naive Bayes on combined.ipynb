{
 "cells": [
  {
   "cell_type": "code",
   "execution_count": 27,
   "id": "aff33d78-4a84-4648-88aa-de5b8cc7f2b3",
   "metadata": {
    "id": "j0K0ax9lV6LK"
   },
   "outputs": [],
   "source": [
    "import numpy as np # linear algebra\n",
    "import pandas as pd # data processing, CSV file I/O (e.g. pd.read_csv)\n",
    "from sklearn import model_selection, naive_bayes, svm\n",
    "from sklearn.metrics import accuracy_score\n",
    "from sklearn.feature_extraction.text import TfidfTransformer,CountVectorizer,TfidfVectorizer\n",
    "from sklearn.pipeline import Pipeline\n",
    "from sklearn.naive_bayes import MultinomialNB,ComplementNB\n",
    "from sklearn.model_selection import GridSearchCV,train_test_split\n",
    "from sklearn.model_selection import cross_val_score\n",
    "from sklearn.linear_model import LogisticRegression\n",
    "from sklearn.svm import SVC\n",
    "from sklearn import preprocessing, decomposition, model_selection, metrics, pipeline\n",
    "from time import time\n",
    "from sklearn.feature_selection import SelectFromModel\n",
    "from sklearn.dummy import DummyClassifier\n",
    "import warnings\n",
    "warnings.filterwarnings('ignore')\n",
    "from sklearn.ensemble import RandomForestClassifier\n",
    "from sklearn.model_selection import train_test_split\n",
    "from sklearn.preprocessing import MinMaxScaler,StandardScaler\n",
    "from sklearn_pandas import DataFrameMapper\n",
    "\n",
    "\n",
    "\n",
    "import matplotlib.pyplot as plt\n",
    "from sklearn.metrics import classification_report\n",
    "from sklearn.metrics import PrecisionRecallDisplay\n",
    "from sklearn.metrics import accuracy_score,recall_score,precision_score,f1_score\n",
    "from sklearn.metrics import confusion_matrix\n",
    "from sklearn.metrics import roc_curve,roc_auc_score,confusion_matrix\n",
    "from sklearn.metrics import average_precision_score, auc, roc_curve, precision_recall_curve\n"
   ]
  },
  {
   "cell_type": "code",
   "execution_count": 28,
   "id": "17f5c7f3-55df-4e90-a513-080c38e7d620",
   "metadata": {
    "id": "4zgX0ZR-fzN5"
   },
   "outputs": [],
   "source": [
    "train_data = pd.read_csv('WikiLarge_Train.csv')\n",
    "test_data = pd.read_csv('WikiLarge_Test.csv')\n",
    "# sample_submission = pd.read_csv('sampleSubmission.csv')"
   ]
  },
  {
   "cell_type": "code",
   "execution_count": 29,
   "id": "fd790201-3b63-434b-8118-93f03422b68d",
   "metadata": {
    "colab": {
     "base_uri": "https://localhost:8080/"
    },
    "id": "VRUTn6RFg5Vd",
    "outputId": "dcb60db1-f2dd-4ab4-eeb8-158ea616302a"
   },
   "outputs": [
    {
     "name": "stdout",
     "output_type": "stream",
     "text": [
      "(416768, 11)\n",
      "(119092, 11) \n",
      "---------------\n",
      "\n",
      "(416768, 12)\n",
      "(119092, 12) \n",
      "---------------\n",
      "\n",
      "(416768, 11)\n",
      "(119092, 11) \n",
      "---------------\n",
      "\n",
      "(416768, 40)\n",
      "(119092, 40) \n",
      "---------------\n",
      "\n",
      "(416768, 8)\n",
      "(119092, 8) \n",
      "---------------\n",
      "\n",
      "(416768, 13)\n",
      "(119092, 13) \n",
      "---------------\n",
      "\n",
      "Index(['dale_chall_score', 'flesch reading ease score', 'gunning fog',\n",
      "       'flesch kincaid grade level', 'coleman liau index', 'smog index',\n",
      "       'automated readability index', 'linsear write formula'],\n",
      "      dtype='object')\n",
      "(416768, 103)\n",
      "(119092, 103)\n"
     ]
    }
   ],
   "source": [
    "aoa_aggregated_train=pd.read_csv(\"AoA_countfeatures_traindata.csv\").fillna(0)\n",
    "aoa_aggregated_test=pd.read_csv(\"AoA_countfeatures_testdata.csv\").fillna(0)\n",
    "print(aoa_aggregated_train.shape)\n",
    "print(aoa_aggregated_test.shape,\"\\n---------------\\n\")\n",
    "\n",
    "\n",
    "aoa_numerical_train=pd.read_csv(\"aoa_features_traindata.csv\").fillna(0)\n",
    "aoa_numerical_test=pd.read_csv(\"aoa_features_testdata.csv\").fillna(0)\n",
    "print(aoa_numerical_train.shape)\n",
    "print(aoa_numerical_test.shape,\"\\n---------------\\n\")\n",
    "\n",
    "\n",
    "\n",
    "numerical_train=pd.read_csv(\"only_numeric_features_traindata.csv\").fillna(0)\n",
    "numerical_test=pd.read_csv(\"only_numeric_features_testdata.csv\").fillna(0)\n",
    "print(numerical_train.shape)\n",
    "print(numerical_test.shape,\"\\n---------------\\n\")\n",
    "\n",
    "pos_tag_train=pd.read_csv(\"pos_tag_traindata.csv\").fillna(0)\n",
    "pos_tag_test=pd.read_csv(\"pos_tag_testdata.csv\").fillna(0)\n",
    "print(pos_tag_train.shape)\n",
    "print(pos_tag_test.shape,\"\\n---------------\\n\")\n",
    "\n",
    "concreteness_aggregated_train=pd.read_csv(\"concreteness_features_traindata.csv\").fillna(0)\n",
    "concreteness_aggregated_test=pd.read_csv(\"concreteness_features_testdata.csv\").fillna(0)\n",
    "print(concreteness_aggregated_train.shape)\n",
    "print(concreteness_aggregated_test.shape,\"\\n---------------\\n\")\n",
    "\n",
    "concreteness_numerical_train=pd.read_csv(\"concreteness_numerical_features_traindata.csv\").fillna(0)\n",
    "concreteness_numerical_test=pd.read_csv(\"concreteness_numerical_features_testdata.csv\").fillna(0)\n",
    "print(concreteness_numerical_train.shape)\n",
    "print(concreteness_numerical_test.shape,\"\\n---------------\\n\")\n",
    "\n",
    "\n",
    "readability_train=pd.read_csv(\"readability_scores_included_train.csv\").fillna(0).drop(['Unnamed: 0', 'original_text', 'label', 'clean_text'],axis=1)\n",
    "readability_test=pd.read_csv(\"readability_scores_included_test.csv\").fillna(0).drop(['Unnamed: 0', 'original_text', 'label', 'clean_text',\"id\"],axis=1)\n",
    "print(readability_train.columns)\n",
    "\n",
    "\n",
    "X_train_numerical = pd.concat([aoa_aggregated_train,aoa_numerical_train,numerical_train,pos_tag_train,concreteness_aggregated_train,concreteness_numerical_train,readability_train], axis=1).fillna(0)\n",
    "\n",
    "X_test_numerical = pd.concat([aoa_aggregated_test,aoa_numerical_test,numerical_test,pos_tag_test,concreteness_aggregated_test,concreteness_numerical_test,readability_test], axis=1).fillna(0)\n",
    "\n",
    "print(X_train_numerical.shape)\n",
    "\n",
    "print(X_test_numerical.shape)\n",
    "\n",
    "X_train_numerical=X_train_numerical.drop([\"Unnamed: 0\"],axis=1)\n",
    "X_test_numerical=X_test_numerical.drop([\"Unnamed: 0\"],axis=1)\n",
    "train_x_numerical=X_train_numerical.copy()\n",
    "test_x_numerical=X_test_numerical.copy()\n",
    "\n",
    "train_numerical_columns=X_train_numerical.columns\n",
    "test_numerical_columns=X_test_numerical.columns"
   ]
  },
  {
   "cell_type": "code",
   "execution_count": 30,
   "id": "a93733b0-179f-4fe4-b64a-0867014161c6",
   "metadata": {
    "id": "lE7chCr5gkH0"
   },
   "outputs": [],
   "source": [
    "y_train = pd.read_csv('WikiLarge_Train.csv')[\"label\"]\n",
    "y_test= pd.read_csv('WikiLarge_Test.csv')[\"label\"]"
   ]
  },
  {
   "cell_type": "code",
   "execution_count": 31,
   "id": "bf173056-6051-4a4d-8c54-c296c4d75e7c",
   "metadata": {
    "id": "0dcVbiKghQnu"
   },
   "outputs": [],
   "source": [
    "# Create correlation matrix\n",
    "corr_matrix = X_train_numerical.corr().abs()\n",
    "\n",
    "# Select upper triangle of correlation matrix\n",
    "upper = corr_matrix.where(np.triu(np.ones(corr_matrix.shape), k=1).astype(np.bool))\n",
    "\n",
    "# Find index of feature columns with correlation greater than 0.95\n",
    "to_drop = [column for column in upper.columns if any(upper[column] > 0.95)]\n",
    "\n",
    "X_train_numerical=X_train_numerical.drop(X_train_numerical[to_drop], axis=1)\n",
    "X_test_numerical=X_test_numerical.drop(X_test_numerical[to_drop],axis=1)\n",
    "train_numerical_columns=X_train_numerical.columns\n",
    "test_numerical_columns=X_test_numerical.columns"
   ]
  },
  {
   "cell_type": "code",
   "execution_count": 32,
   "id": "d2dac384-d05e-4d8d-bf98-227598ee2c3e",
   "metadata": {
    "id": "jZPGudZXhT8a"
   },
   "outputs": [],
   "source": [
    "scaler = StandardScaler()\n",
    "# transform data\n",
    "X_train_numerical = scaler.fit_transform(X_train_numerical)\n",
    "# X_test=scaler.transform(X_test)\n",
    "X_test_numerical = scaler.transform(X_test_numerical)"
   ]
  },
  {
   "cell_type": "code",
   "execution_count": 33,
   "id": "dd9ef903-67cf-4855-996f-c1142b7dbd53",
   "metadata": {},
   "outputs": [
    {
     "name": "stdout",
     "output_type": "stream",
     "text": [
      "Tuning hyper-parameters for accuracy\n",
      "Fitting 5 folds for each of 5 candidates, totalling 25 fits\n",
      "[CV] END ............................................C=0.001; total time=   1.9s\n",
      "[CV] END ............................................C=0.001; total time=   2.1s\n",
      "[CV] END ............................................C=0.001; total time=   2.1s\n",
      "[CV] END ............................................C=0.001; total time=   2.3s\n",
      "[CV] END ............................................C=0.001; total time=   2.3s\n",
      "[CV] END .............................................C=0.01; total time=   3.1s\n",
      "[CV] END .............................................C=0.01; total time=   3.1s\n",
      "[CV] END .............................................C=0.01; total time=   3.3s\n",
      "[CV] END .............................................C=0.01; total time=   3.1s\n",
      "[CV] END .............................................C=0.01; total time=   3.4s\n",
      "[CV] END ..............................................C=0.1; total time=   3.3s\n",
      "[CV] END ..............................................C=0.1; total time=   3.5s\n",
      "[CV] END ..............................................C=0.1; total time=   3.4s\n",
      "[CV] END ..............................................C=0.1; total time=   3.3s\n",
      "[CV] END ..............................................C=0.1; total time=   3.2s\n",
      "[CV] END ................................................C=1; total time=   3.0s\n",
      "[CV] END ................................................C=1; total time=   3.2s\n",
      "[CV] END ................................................C=1; total time=   3.2s\n",
      "[CV] END ................................................C=1; total time=   3.0s\n",
      "[CV] END ................................................C=1; total time=   3.1s\n",
      "[CV] END ...............................................C=10; total time=   3.2s\n",
      "[CV] END ...............................................C=10; total time=   3.1s\n",
      "[CV] END ...............................................C=10; total time=   3.6s\n",
      "[CV] END ...............................................C=10; total time=   3.0s\n",
      "[CV] END ...............................................C=10; total time=   2.8s\n",
      "Done in 78.225s\n",
      "Best parameters set found on training data:\n",
      "\n",
      "{'C': 10}\n",
      "Grid scores on training data:\n",
      "\n"
     ]
    },
    {
     "data": {
      "image/png": "[encoded data removed]",
      "text/plain": [
       "<Figure size 432x288 with 1 Axes>"
      ]
     },
     "metadata": {
      "needs_background": "light"
     },
     "output_type": "display_data"
    },
    {
     "name": "stdout",
     "output_type": "stream",
     "text": [
      "0.669 for {'C': 0.001}\n",
      "0.670 for {'C': 0.01}\n",
      "0.670 for {'C': 0.1}\n",
      "0.670 for {'C': 1}\n",
      "0.670 for {'C': 10}\n"
     ]
    }
   ],
   "source": [
    "scores = [\"accuracy\"]\n",
    "for score in scores:\n",
    "    print(\"Tuning hyper-parameters for %s\" % score)\n",
    "    param_grid = {'C': [0.001, 0.01, 0.1, 1, 10]}\n",
    "    log_grid = GridSearchCV(LogisticRegression(), param_grid, cv=5,verbose=2,scoring=score) \n",
    "    tic = time()\n",
    "    log_grid.fit(X_train_numerical, y_train)\n",
    "    toc = time()\n",
    "    print(f\"Done in {toc - tic:.3f}s\")\n",
    "    print(\"Best parameters set found on training data:\\n\")\n",
    "    print(log_grid.best_params_)\n",
    "    print(\"Grid scores on training data:\\n\")\n",
    "    means = log_grid.cv_results_['mean_test_score']\n",
    "    fig, ax = plt.subplots()\n",
    "    a = ax.plot([0.001, 0.01, 0.1, 1, 10],means)\n",
    "    ax.set_xlabel('C')\n",
    "    ax.set_ylabel(score)\n",
    "    plt.show()\n",
    "    for mean,params in zip(means,log_grid.cv_results_['params']):\n",
    "        print(\"%0.3f for %r\"% (mean, params))\n",
    "# predictions=log_grid.best_estimator_.predict(X_test_numerical)\n",
    "# list_of_tuples = list(zip(np.arange(len(predictions)),predictions))\n",
    "# df = pd.DataFrame(list_of_tuples,columns = ['id', 'label']) \n",
    "# df.to_csv(\"baseline_submissions/Logistic_regression_numerical_features_only_tfid_vectoriser\",index=False)"
   ]
  },
  {
   "cell_type": "code",
   "execution_count": 34,
   "id": "d4d025e3-5b42-4ee5-b8ff-8411347400a4",
   "metadata": {},
   "outputs": [],
   "source": [
    "model = SelectFromModel(log_grid.best_estimator_, prefit=True)"
   ]
  },
  {
   "cell_type": "code",
   "execution_count": 35,
   "id": "8fee3b60-8d20-4cf0-828b-08c4af4b59c9",
   "metadata": {},
   "outputs": [],
   "source": [
    "train_data_best_features=model.transform(X_train_numerical)\n",
    "test_data_best_features=model.transform(X_test_numerical)"
   ]
  },
  {
   "cell_type": "code",
   "execution_count": 36,
   "id": "40b12477-caf8-413f-b9b4-21193520137e",
   "metadata": {},
   "outputs": [
    {
     "data": {
      "text/plain": [
       "Index(['words_less5_phonemes', 'perc_known_less_20', 'aoa_kup', 'aoa_kup_lem',\n",
       "       'perc_known', 'perc_known_lem', 'lexical_diversity', '3_syllable_count',\n",
       "       'noun_common', 'noun_common_plural', 'verb_past', 'pronoun_personal',\n",
       "       'flesch reading ease score', 'flesch kincaid grade level',\n",
       "       'coleman liau index', 'automated readability index',\n",
       "       'linsear write formula'],\n",
       "      dtype='object')"
      ]
     },
     "execution_count": 36,
     "metadata": {},
     "output_type": "execute_result"
    }
   ],
   "source": [
    "train_numerical_columns[model.get_support()]"
   ]
  },
  {
   "cell_type": "code",
   "execution_count": 37,
   "id": "42b4f17d-3259-4c4f-ac16-836c5c289d7a",
   "metadata": {
    "id": "GAh1y3Iahf2o"
   },
   "outputs": [],
   "source": [
    "train_data = pd.read_csv('WikiLarge_Train.csv')\n",
    "test_data = pd.read_csv('WikiLarge_Test.csv')\n",
    "\n",
    "X_train_numerical=train_x_numerical[['words_less5_phonemes', 'perc_known_less_20', 'aoa_kup', 'aoa_kup_lem',\n",
    "       'perc_known', 'perc_known_lem', 'lexical_diversity', '3_syllable_count',\n",
    "       'noun_common', 'noun_common_plural', 'verb_past', 'pronoun_personal',\n",
    "       'flesch reading ease score', 'flesch kincaid grade level',\n",
    "       'coleman liau index', 'automated readability index',\n",
    "       'linsear write formula']]\n",
    "X_test_numerical=test_x_numerical[['words_less5_phonemes', 'perc_known_less_20', 'aoa_kup', 'aoa_kup_lem',\n",
    "       'perc_known', 'perc_known_lem', 'lexical_diversity', '3_syllable_count',\n",
    "       'noun_common', 'noun_common_plural', 'verb_past', 'pronoun_personal',\n",
    "       'flesch reading ease score', 'flesch kincaid grade level',\n",
    "       'coleman liau index', 'automated readability index',\n",
    "       'linsear write formula']]\n",
    "scaler = MinMaxScaler()\n",
    "# transform data\n",
    "X_train_numerical = pd.DataFrame(scaler.fit_transform(X_train_numerical))\n",
    "# X_test=scaler.transform(X_test)\n",
    "X_test_numerical = pd.DataFrame(scaler.transform(X_test_numerical))\n"
   ]
  },
  {
   "cell_type": "code",
   "execution_count": 38,
   "id": "456d7dd2-14af-41fd-a8d9-b6ec00661d0e",
   "metadata": {
    "colab": {
     "base_uri": "https://localhost:8080/"
    },
    "id": "bZ_X72vLmM5r",
    "outputId": "57b9dbb9-d393-4112-89a9-4130458051fc"
   },
   "outputs": [
    {
     "data": {
      "text/plain": [
       "Index(['id', 'original_text', 'label'], dtype='object')"
      ]
     },
     "execution_count": 38,
     "metadata": {},
     "output_type": "execute_result"
    }
   ],
   "source": [
    "test_data.columns"
   ]
  },
  {
   "cell_type": "code",
   "execution_count": 39,
   "id": "da49785f-47f3-4321-bdab-7a81b77ede86",
   "metadata": {
    "colab": {
     "base_uri": "https://localhost:8080/"
    },
    "id": "5mqfBdbchlOL",
    "outputId": "444c6679-7916-4099-a6b7-d9814c12c2cb"
   },
   "outputs": [
    {
     "data": {
      "text/plain": [
       "Pipeline(steps=[('tfidf',\n",
       "                 ColumnTransformer(remainder='passthrough',\n",
       "                                   transformers=[('tfidf1', TfidfVectorizer(),\n",
       "                                                  'original_text')]))])"
      ]
     },
     "execution_count": 39,
     "metadata": {},
     "output_type": "execute_result"
    }
   ],
   "source": [
    "#from sklearn.pipeline import Pipeline\n",
    "from sklearn.compose import ColumnTransformer\n",
    "from sklearn.ensemble import RandomForestClassifier\n",
    "from sklearn.feature_extraction.text import TfidfVectorizer\n",
    "\n",
    "train_data = pd.concat([train_data,X_train_numerical], axis=1).fillna(0)\n",
    "\n",
    "test_data = pd.concat([test_data,X_test_numerical], axis=1).fillna(0)\n",
    "# Set X and y\n",
    "train_data = train_data.drop(['label'],axis=1)\n",
    "\n",
    "test_data=test_data.drop(['label','id'],axis=1)\n",
    "\n",
    "# initialise model and vectorizers\n",
    "vectorizer1 = TfidfVectorizer()\n",
    "# construct the column transfomer\n",
    "column_transformer = ColumnTransformer([('tfidf1', vectorizer1,'original_text')],remainder='passthrough')\n",
    "\n",
    "# fit the model\n",
    "pipe = Pipeline([('tfidf', column_transformer)])\n",
    "pipe.fit(train_data,y_train)"
   ]
  },
  {
   "cell_type": "code",
   "execution_count": 40,
   "id": "2ce6a42d-63bb-4be1-bfed-6d99d1309246",
   "metadata": {},
   "outputs": [
    {
     "data": {
      "text/plain": [
       "(416768, 18)"
      ]
     },
     "execution_count": 40,
     "metadata": {},
     "output_type": "execute_result"
    }
   ],
   "source": [
    "train_data.shape"
   ]
  },
  {
   "cell_type": "code",
   "execution_count": 41,
   "id": "d0c05e62-b2f1-4afc-a47b-22d113d2569e",
   "metadata": {},
   "outputs": [
    {
     "data": {
      "text/plain": [
       "(119092, 18)"
      ]
     },
     "execution_count": 41,
     "metadata": {},
     "output_type": "execute_result"
    }
   ],
   "source": [
    "test_data.shape"
   ]
  },
  {
   "cell_type": "code",
   "execution_count": 42,
   "id": "abfd963b-15e7-4294-b9fd-65573d9890b7",
   "metadata": {
    "id": "xav2hNBdizMt"
   },
   "outputs": [],
   "source": [
    "X_train=pipe.transform(train_data)\n",
    "X_test=pipe.transform(test_data)"
   ]
  },
  {
   "cell_type": "code",
   "execution_count": 43,
   "id": "0b3c675c-804f-4320-bdcc-4fc5b3df5c61",
   "metadata": {},
   "outputs": [
    {
     "data": {
      "text/plain": [
       "(416768, 142358)"
      ]
     },
     "execution_count": 43,
     "metadata": {},
     "output_type": "execute_result"
    }
   ],
   "source": [
    "X_train.shape"
   ]
  },
  {
   "cell_type": "code",
   "execution_count": 44,
   "id": "17100bcd-02df-4984-83b3-a03e923b500e",
   "metadata": {},
   "outputs": [
    {
     "name": "stdout",
     "output_type": "stream",
     "text": [
      "Tuning hyper-parameters for recall\n",
      "Done in 2.648s\n",
      "Best parameters set found on training data:\n",
      "\n",
      "{'alpha': 10}\n",
      "Grid scores on training data:\n",
      "\n"
     ]
    },
    {
     "data": {
      "image/png": "[encoded data removed]",
      "text/plain": [
       "<Figure size 432x288 with 1 Axes>"
      ]
     },
     "metadata": {
      "needs_background": "light"
     },
     "output_type": "display_data"
    },
    {
     "name": "stdout",
     "output_type": "stream",
     "text": [
      "0.664 for {'alpha': 0.001}\n",
      "0.664 for {'alpha': 0.01}\n",
      "0.668 for {'alpha': 0.1}\n",
      "0.694 for {'alpha': 1}\n",
      "0.917 for {'alpha': 10}\n",
      "\n",
      " For the model with the best recall\n"
     ]
    },
    {
     "data": {
      "image/png": "[encoded data removed]",
      "text/plain": [
       "<Figure size 432x288 with 1 Axes>"
      ]
     },
     "metadata": {
      "needs_background": "light"
     },
     "output_type": "display_data"
    },
    {
     "data": {
      "image/png": "[encoded data removed]",
      "text/plain": [
       "<Figure size 576x576 with 1 Axes>"
      ]
     },
     "metadata": {
      "needs_background": "light"
     },
     "output_type": "display_data"
    }
   ],
   "source": [
    "score = 'recall'\n",
    "\n",
    "print(\"Tuning hyper-parameters for %s\" % score)\n",
    "param_grid = {'alpha': [0.001, 0.01, 0.1, 1, 10]}\n",
    "mnb_grid = GridSearchCV(MultinomialNB(), param_grid, cv=5,scoring=score) \n",
    "tic = time()\n",
    "mnb_grid.fit(X_train, y_train)\n",
    "toc = time()\n",
    "mnbtime=toc-tic\n",
    "print(f\"Done in {toc - tic:.3f}s\")\n",
    "print(\"Best parameters set found on training data:\\n\")\n",
    "print(mnb_grid.best_params_)\n",
    "print(\"Grid scores on training data:\\n\")\n",
    "means = mnb_grid.cv_results_['mean_test_score']\n",
    "fig, ax = plt.subplots()\n",
    "a = ax.plot([0.001, 0.01, 0.1, 1, 10],means)\n",
    "ax.set_xlabel('C')\n",
    "ax.set_ylim([0,1.1])\n",
    "ax.set_ylabel(score)\n",
    "plt.show()\n",
    "for mean,params in zip(means,mnb_grid.cv_results_['params']):\n",
    "    print(\"%0.3f for %r\"% (mean, params))\n",
    "print(\"\\n For the model with the best \"+ score)\n",
    "\n",
    "y_score = mnb_grid.best_estimator_.predict_proba(X_train)[:,-1]\n",
    "precision, recall, _ = precision_recall_curve(y_train, y_score)\n",
    "average_precision = average_precision_score(y_train, y_score)\n",
    "plt.plot(recall, precision, color='b', alpha=0.2)\n",
    "plt.xlabel('Recall')\n",
    "plt.ylabel('Precision')\n",
    "plt.ylim([0.0, 1.05])\n",
    "plt.xlim([0.0, 1.0])\n",
    "plt.title(' MultinomialNB 2-class Precision-Recall curve: AP={0:0.2f}'.format(average_precision))\n",
    "fpr, tpr, _ = roc_curve(y_train, y_score)\n",
    "roc_auc = auc(fpr, tpr)\n",
    "plt.figure(figsize=(8,8))\n",
    "plt.xlim([-0.01, 1.00])\n",
    "plt.ylim([-0.01, 1.01])\n",
    "plt.plot(fpr, tpr, lw=1, label='{} curve (AUC = {:0.2f})'.format('Multinomial Naive Bayes',roc_auc))\n",
    "plt.xlabel('False Positive Rate', fontsize=16)\n",
    "plt.ylabel('True Positive Rate', fontsize=16)\n",
    "plt.title('ROC curve', fontsize=16)\n",
    "plt.legend(loc='lower right', fontsize=13)\n",
    "plt.plot([0, 1], [0, 1], color='navy', lw=1, linestyle='--')\n",
    "plt.axes().set_aspect('equal')\n",
    "plt.show()\n",
    "# predictions=mnb_grid.best_estimator_.predict(X_test_minmax)\n",
    "# list_of_tuples = list(zip(np.arange(len(predictions)),predictions))\n",
    "# df = pd.DataFrame(list_of_tuples,columns = ['id', 'label']) \n",
    "# df.to_csv(\"baseline_submissions/MultinomialNB_text_features_only_tfid_vectoriser\",index=False)\n",
    "\n",
    "\n",
    "# mglearn.tools.visualize_coefficients(mnb_grid.best_estimator_.coef_,feature_names, n_top_features=40)\n",
    "\n"
   ]
  },
  {
   "cell_type": "code",
   "execution_count": 46,
   "id": "da193ac2-e148-4e68-bdb3-8bc9ce850d3c",
   "metadata": {},
   "outputs": [
    {
     "name": "stdout",
     "output_type": "stream",
     "text": [
      "Tuning hyper-parameters for accuracy\n",
      "Done in 2.253s\n",
      "Best parameters set found on training data:\n",
      "\n",
      "{'alpha': 1}\n",
      "Grid scores on training data:\n",
      "\n"
     ]
    },
    {
     "data": {
      "image/png": "[encoded data removed]",
      "text/plain": [
       "<Figure size 432x288 with 1 Axes>"
      ]
     },
     "metadata": {
      "needs_background": "light"
     },
     "output_type": "display_data"
    },
    {
     "name": "stdout",
     "output_type": "stream",
     "text": [
      "0.676 for {'alpha': 0.001}\n",
      "0.677 for {'alpha': 0.01}\n",
      "0.681 for {'alpha': 0.1}\n",
      "0.688 for {'alpha': 1}\n",
      "0.639 for {'alpha': 10}\n",
      "\n",
      " For the model with the best accuracy\n"
     ]
    },
    {
     "data": {
      "image/png": "[encoded data removed]",
      "text/plain": [
       "<Figure size 432x288 with 1 Axes>"
      ]
     },
     "metadata": {
      "needs_background": "light"
     },
     "output_type": "display_data"
    },
    {
     "data": {
      "image/png": "[encoded data removed]",
      "text/plain": [
       "<Figure size 576x576 with 1 Axes>"
      ]
     },
     "metadata": {
      "needs_background": "light"
     },
     "output_type": "display_data"
    }
   ],
   "source": [
    "score = 'accuracy'\n",
    "\n",
    "print(\"Tuning hyper-parameters for %s\" % score)\n",
    "param_grid = {'alpha': [0.001, 0.01, 0.1, 1, 10]}\n",
    "mnb_grid = GridSearchCV(MultinomialNB(), param_grid, cv=5,scoring=score) \n",
    "tic = time()\n",
    "mnb_grid.fit(X_train, y_train)\n",
    "toc = time()\n",
    "mnbtime=toc-tic\n",
    "print(f\"Done in {toc - tic:.3f}s\")\n",
    "print(\"Best parameters set found on training data:\\n\")\n",
    "print(mnb_grid.best_params_)\n",
    "print(\"Grid scores on training data:\\n\")\n",
    "means = mnb_grid.cv_results_['mean_test_score']\n",
    "fig, ax = plt.subplots()\n",
    "a = ax.plot([0.001, 0.01, 0.1, 1, 10],means)\n",
    "ax.set_xlabel('C')\n",
    "ax.set_ylim([0,1.1])\n",
    "ax.set_ylabel(score)\n",
    "plt.show()\n",
    "for mean,params in zip(means,mnb_grid.cv_results_['params']):\n",
    "    print(\"%0.3f for %r\"% (mean, params))\n",
    "print(\"\\n For the model with the best \"+ score)\n",
    "\n",
    "y_score = mnb_grid.best_estimator_.predict_proba(X_train)[:,-1]\n",
    "precision, recall, _ = precision_recall_curve(y_train, y_score)\n",
    "average_precision = average_precision_score(y_train, y_score)\n",
    "plt.plot(recall, precision, color='b', alpha=0.2)\n",
    "plt.xlabel('Recall')\n",
    "plt.ylabel('Precision')\n",
    "plt.ylim([0.0, 1.05])\n",
    "plt.xlim([0.0, 1.0])\n",
    "plt.title(' MultinomialNB 2-class Precision-Recall curve: AP={0:0.2f}'.format(average_precision))\n",
    "fpr, tpr, _ = roc_curve(y_train, y_score)\n",
    "roc_auc = auc(fpr, tpr)\n",
    "plt.figure(figsize=(8,8))\n",
    "plt.xlim([-0.01, 1.00])\n",
    "plt.ylim([-0.01, 1.01])\n",
    "plt.plot(fpr, tpr, lw=1, label='{} curve (AUC = {:0.2f})'.format('Multinomial Naive Bayes',roc_auc))\n",
    "plt.xlabel('False Positive Rate', fontsize=16)\n",
    "plt.ylabel('True Positive Rate', fontsize=16)\n",
    "plt.title('ROC curve', fontsize=16)\n",
    "plt.legend(loc='lower right', fontsize=13)\n",
    "plt.plot([0, 1], [0, 1], color='navy', lw=1, linestyle='--')\n",
    "plt.axes().set_aspect('equal')\n",
    "plt.show()\n",
    "# predictions=mnb_grid.best_estimator_.predict(X_test_minmax)\n",
    "# list_of_tuples = list(zip(np.arange(len(predictions)),predictions))\n",
    "# df = pd.DataFrame(list_of_tuples,columns = ['id', 'label']) \n",
    "# df.to_csv(\"baseline_submissions/MultinomialNB_text_features_only_tfid_vectoriser\",index=False)\n",
    "\n",
    "# mglearn.tools.visualize_coefficients(mnb_grid.best_estimator_.coef_,feature_names, n_top_features=40)\n",
    "\n",
    "\n"
   ]
  },
  {
   "cell_type": "code",
   "execution_count": null,
   "id": "a0ecc1e3-d113-4277-8833-51dec3c41627",
   "metadata": {},
   "outputs": [],
   "source": []
  }
 ],
 "metadata": {
  "kernelspec": {
   "display_name": "Python 3",
   "language": "python",
   "name": "python3"
  },
  "language_info": {
   "codemirror_mode": {
    "name": "ipython",
    "version": 3
   },
   "file_extension": ".py",
   "mimetype": "text/x-python",
   "name": "python",
   "nbconvert_exporter": "python",
   "pygments_lexer": "ipython3",
   "version": "3.8.8"
  }
 },
 "nbformat": 4,
 "nbformat_minor": 5
}
