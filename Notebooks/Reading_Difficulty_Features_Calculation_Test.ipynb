{
 "cells": [
  {
   "cell_type": "code",
   "execution_count": 1,
   "metadata": {
    "id": "SXsLZTDiU61y"
   },
   "outputs": [],
   "source": [
    "import pandas as pd\n",
    "import numpy as np"
   ]
  },
  {
   "cell_type": "code",
   "execution_count": 2,
   "metadata": {
    "id": "dzEIorK2U1z5"
   },
   "outputs": [],
   "source": [
    "data = pd.read_csv('WikiLarge_Test.csv')"
   ]
  },
  {
   "cell_type": "code",
   "execution_count": 3,
   "metadata": {
    "id": "2jSEQg-0U12c"
   },
   "outputs": [],
   "source": [
    "daleChall = pd.read_csv('dale_chall.txt', header=None)"
   ]
  },
  {
   "cell_type": "code",
   "execution_count": 5,
   "metadata": {
    "id": "Nqhwy2rRU16h"
   },
   "outputs": [
    {
     "data": {
      "text/plain": [
       "array(['a', 'able', 'aboard', ..., 'yourselves', 'youth', \"you've\"],\n",
       "      dtype=object)"
      ]
     },
     "execution_count": 5,
     "metadata": {},
     "output_type": "execute_result"
    }
   ],
   "source": [
    "daleChall_words = daleChall[0].values\n",
    "daleChall_words"
   ]
  },
  {
   "cell_type": "code",
   "execution_count": 7,
   "metadata": {},
   "outputs": [
    {
     "name": "stdout",
     "output_type": "stream",
     "text": [
      "Collecting nltk\n",
      "  Downloading nltk-3.6.5-py3-none-any.whl (1.5 MB)\n",
      "     |████████████████████████████████| 1.5 MB 4.1 MB/s            \n",
      "\u001b[?25hRequirement already satisfied: tqdm in /Library/Frameworks/Python.framework/Versions/3.7/lib/python3.7/site-packages (from nltk) (4.62.3)\n",
      "Collecting regex>=2021.8.3\n",
      "  Downloading regex-2021.11.10-cp37-cp37m-macosx_10_9_x86_64.whl (288 kB)\n",
      "     |████████████████████████████████| 288 kB 18.4 MB/s            \n",
      "\u001b[?25hRequirement already satisfied: joblib in /Library/Frameworks/Python.framework/Versions/3.7/lib/python3.7/site-packages (from nltk) (0.14.0)\n",
      "Requirement already satisfied: click in /Library/Frameworks/Python.framework/Versions/3.7/lib/python3.7/site-packages (from nltk) (8.0.3)\n",
      "Requirement already satisfied: importlib-metadata in /Users/harry/Library/Python/3.7/lib/python/site-packages (from click->nltk) (1.2.0)\n",
      "Requirement already satisfied: zipp>=0.5 in /Users/harry/Library/Python/3.7/lib/python/site-packages (from importlib-metadata->click->nltk) (0.6.0)\n",
      "Requirement already satisfied: more-itertools in /Users/harry/Library/Python/3.7/lib/python/site-packages (from zipp>=0.5->importlib-metadata->click->nltk) (8.0.0)\n",
      "Installing collected packages: regex, nltk\n",
      "Successfully installed nltk-3.6.5 regex-2021.11.10\n"
     ]
    }
   ],
   "source": [
    "!pip install nltk"
   ]
  },
  {
   "cell_type": "code",
   "execution_count": 11,
   "metadata": {
    "colab": {
     "base_uri": "https://localhost:8080/"
    },
    "id": "8nc4FZlsU19l",
    "outputId": "d52410a7-f8f0-4f1d-f6fc-670828ec0ab9"
   },
   "outputs": [
    {
     "name": "stderr",
     "output_type": "stream",
     "text": [
      "[nltk_data] Downloading package stopwords to /Users/harry/nltk_data...\n",
      "[nltk_data]   Package stopwords is already up-to-date!\n",
      "[nltk_data] Downloading package wordnet to /Users/harry/nltk_data...\n",
      "[nltk_data]   Package wordnet is already up-to-date!\n"
     ]
    }
   ],
   "source": [
    "import re\n",
    "import nltk\n",
    "nltk.download('stopwords')\n",
    "nltk.download('wordnet')\n",
    "lst_stopwords = nltk.corpus.stopwords.words(\"english\")\n",
    "def preprocess_text(text, flg_stemm=False, flg_lemm=True, lst_stopwords=None):\n",
    "  \n",
    "    ## clean (convert to lowercase and remove punctuations and characters and then strip)\n",
    "    text = re.sub(r'[^\\w\\s]', '', str(text).lower().strip())\n",
    "            \n",
    "    ## Tokenize (convert from string to list)\n",
    "    lst_text = text.split()\n",
    "\n",
    "    ## remove Stopwords\n",
    "    if lst_stopwords is not None:\n",
    "        lst_text = [word for word in lst_text if word not in \n",
    "                    lst_stopwords]\n",
    "                \n",
    "    ## Stemming (remove -ing, -ly, ...)\n",
    "    if flg_stemm == True:\n",
    "        ps = nltk.stem.porter.PorterStemmer()\n",
    "        lst_text = [ps.stem(word) for word in lst_text]\n",
    "                \n",
    "    ## Lemmatisation (convert the word into root word)\n",
    "    if flg_lemm == True:\n",
    "        lem = nltk.stem.wordnet.WordNetLemmatizer()\n",
    "        lst_text = [lem.lemmatize(word) for word in lst_text]\n",
    "            \n",
    "    ## back to string from list\n",
    "    text = \" \".join(lst_text)\n",
    "    return text\n",
    "data[\"clean_text\"] = data[\"original_text\"].apply(lambda row: \\\n",
    "          preprocess_text(row, flg_stemm=False, flg_lemm=False, lst_stopwords=lst_stopwords))"
   ]
  },
  {
   "cell_type": "code",
   "execution_count": 10,
   "metadata": {
    "colab": {
     "base_uri": "https://localhost:8080/"
    },
    "id": "R2MAJXxRbNFv",
    "outputId": "f97a4377-5121-4fee-f80e-839b2060fc9c"
   },
   "outputs": [
    {
     "name": "stdout",
     "output_type": "stream",
     "text": [
      "Collecting textstat\n",
      "  Downloading textstat-0.7.2-py3-none-any.whl (101 kB)\n",
      "     |████████████████████████████████| 101 kB 3.5 MB/s           \n",
      "\u001b[?25hCollecting pyphen\n",
      "  Downloading pyphen-0.11.0-py3-none-any.whl (2.0 MB)\n",
      "     |████████████████████████████████| 2.0 MB 12.8 MB/s            \n",
      "\u001b[?25hInstalling collected packages: pyphen, textstat\n",
      "Successfully installed pyphen-0.11.0 textstat-0.7.2\n"
     ]
    }
   ],
   "source": [
    "!pip3 install textstat"
   ]
  },
  {
   "cell_type": "code",
   "execution_count": 13,
   "metadata": {
    "colab": {
     "base_uri": "https://localhost:8080/"
    },
    "id": "c1wkO1VlU2A4",
    "outputId": "cc855263-7173-4a31-f7fa-40bc8aacbe02"
   },
   "outputs": [],
   "source": [
    "import textstat\n",
    "\n",
    "def get_dale_chall_score(text):\n",
    "  sentences_count = textstat.sentence_count(text)\n",
    "  words_count = len(text.split())\n",
    "  avg_sentence_length = float(sentences_count/words_count)\n",
    "  text = re.sub(r'[^\\w\\s]', '', str(text).lower().strip())\n",
    "  words = text.split()\n",
    "  difficult_words_count = 0\n",
    "  for word in words:\n",
    "    if word not in daleChall_words:\n",
    "      difficult_words_count += 1  \n",
    "  pdw = float(difficult_words_count/words_count)\n",
    "  dc = (0.1579 *pdw) + (0.0496 * avg_sentence_length)\n",
    "  return dc\n",
    "\n",
    "data['dale_chall_score'] = data['original_text'].apply(lambda text: get_dale_chall_score(text))\n"
   ]
  },
  {
   "cell_type": "code",
   "execution_count": 14,
   "metadata": {
    "colab": {
     "base_uri": "https://localhost:8080/",
     "height": 35
    },
    "id": "9r9Bh8ohU2Cu",
    "outputId": "a69239ac-f2a1-43d2-b2c4-7b9cac409a75"
   },
   "outputs": [
    {
     "data": {
      "text/plain": [
       "'þrúðr also name one valkyries serve ale einherjar valhalla lrb grímnismál stanza 36 rrb'"
      ]
     },
     "execution_count": 14,
     "metadata": {},
     "output_type": "execute_result"
    }
   ],
   "source": [
    "data['clean_text'].max()"
   ]
  },
  {
   "cell_type": "code",
   "execution_count": 15,
   "metadata": {
    "id": "7IEXzy_RU2HZ"
   },
   "outputs": [],
   "source": [
    "data.to_csv('dale_chall.csv')"
   ]
  },
  {
   "cell_type": "code",
   "execution_count": 17,
   "metadata": {
    "id": "O8Tv81S3U2Lg"
   },
   "outputs": [],
   "source": [
    "# using some other popular readability scores as stated in readabilityformulas.net\n",
    "count = 0\n",
    "# Flesch Reading Ease score\n",
    "def get_flesch_reading_ease_score(text):\n",
    "  global count\n",
    "  count +=1\n",
    "  return textstat.flesch_reading_ease(text)\n",
    "data['flesch reading ease score'] = data['original_text'].apply(lambda text:get_flesch_reading_ease_score(text) )"
   ]
  },
  {
   "cell_type": "code",
   "execution_count": 18,
   "metadata": {
    "colab": {
     "base_uri": "https://localhost:8080/"
    },
    "id": "VG3VhYh6U2O-",
    "outputId": "cf452273-0395-414e-8184-63266ff998ec"
   },
   "outputs": [],
   "source": [
    "count = 0\n",
    "# Gunning Fog\n",
    "def get_gunning_fog(text):\n",
    "  global count\n",
    "  count +=1\n",
    "  return textstat.gunning_fog(text)\n",
    "data['gunning fog'] = data['original_text'].apply(lambda text: get_gunning_fog(text) )"
   ]
  },
  {
   "cell_type": "code",
   "execution_count": 19,
   "metadata": {
    "colab": {
     "base_uri": "https://localhost:8080/"
    },
    "id": "pMFSoUP9U2Sz",
    "outputId": "729378e5-c0a2-4e20-d6b1-7a7cb0cc87f2"
   },
   "outputs": [],
   "source": [
    "count = 0\n",
    "# Flesch-Kincaid Grade Level\n",
    "def get_flesch_kincaid_grade_level(text):\n",
    "  global count\n",
    "  count +=1\n",
    "  return textstat.flesch_kincaid_grade(text)\n",
    "data['flesch kincaid grade level'] = data['original_text'].apply(lambda text: get_flesch_kincaid_grade_level(text))"
   ]
  },
  {
   "cell_type": "code",
   "execution_count": 20,
   "metadata": {
    "colab": {
     "base_uri": "https://localhost:8080/"
    },
    "id": "g9WRygi_U2Vn",
    "outputId": "f7680cda-4264-48f2-aa35-7caad5838e9f"
   },
   "outputs": [],
   "source": [
    "count = 0\n",
    "# The Coleman-Liau Index\n",
    "def get_coleman_liau_index(text):\n",
    "  global count\n",
    "  count +=1\n",
    "  return textstat.coleman_liau_index(text)\n",
    "data['coleman liau index'] = data['original_text'].apply(lambda text: get_coleman_liau_index(text))"
   ]
  },
  {
   "cell_type": "code",
   "execution_count": 21,
   "metadata": {
    "colab": {
     "base_uri": "https://localhost:8080/"
    },
    "id": "xhAwsW2FU2Y0",
    "outputId": "835d1773-fd0c-4096-b8cc-c027581c8e1d"
   },
   "outputs": [],
   "source": [
    "count = 0\n",
    "# The SMOG Index\n",
    "def get_smog_index(text):\n",
    "  global count\n",
    "  count +=1\n",
    "  return textstat.smog_index(text)\n",
    "data['smog index'] = data['original_text'].apply(lambda text: get_smog_index(text))"
   ]
  },
  {
   "cell_type": "code",
   "execution_count": 22,
   "metadata": {
    "colab": {
     "base_uri": "https://localhost:8080/"
    },
    "id": "ku2dnImBU2dC",
    "outputId": "f5c859f4-e8f3-4684-a1b1-aba15d38e9ac"
   },
   "outputs": [],
   "source": [
    "count = 0\n",
    "# Automated Readability Index\n",
    "def get_automated_readability_index(text):\n",
    "  global count\n",
    "  count +=1\n",
    "  return textstat.automated_readability_index(text)\n",
    "data['automated readability index'] = data['original_text'].apply(lambda text: get_automated_readability_index(text))"
   ]
  },
  {
   "cell_type": "code",
   "execution_count": 23,
   "metadata": {
    "colab": {
     "base_uri": "https://localhost:8080/"
    },
    "id": "57V5Ts_NU2fI",
    "outputId": "1a2189e4-b6ae-4b3a-d2ef-dee1de2bc913"
   },
   "outputs": [],
   "source": [
    "count = 0\n",
    "# Linsear Write Formula\n",
    "def get_linsear_write_formula(text):\n",
    "  global count\n",
    "  count +=1\n",
    "  return textstat.linsear_write_formula(text)\n",
    "data['linsear write formula'] = data['original_text'].apply(lambda text: get_linsear_write_formula(text))"
   ]
  },
  {
   "cell_type": "code",
   "execution_count": 25,
   "metadata": {
    "id": "cg26meRSU2iI"
   },
   "outputs": [],
   "source": [
    "data.to_csv('readability_scores_included_test.csv')"
   ]
  },
  {
   "cell_type": "code",
   "execution_count": 24,
   "metadata": {
    "colab": {
     "base_uri": "https://localhost:8080/",
     "height": 521
    },
    "id": "gUjh9NaPU2s6",
    "outputId": "4be920bd-29b8-46f6-8f35-fabc96097831"
   },
   "outputs": [
    {
     "data": {
      "text/html": [
       "<div>\n",
       "<style scoped>\n",
       "    .dataframe tbody tr th:only-of-type {\n",
       "        vertical-align: middle;\n",
       "    }\n",
       "\n",
       "    .dataframe tbody tr th {\n",
       "        vertical-align: top;\n",
       "    }\n",
       "\n",
       "    .dataframe thead th {\n",
       "        text-align: right;\n",
       "    }\n",
       "</style>\n",
       "<table border=\"1\" class=\"dataframe\">\n",
       "  <thead>\n",
       "    <tr style=\"text-align: right;\">\n",
       "      <th></th>\n",
       "      <th>id</th>\n",
       "      <th>original_text</th>\n",
       "      <th>label</th>\n",
       "      <th>clean_text</th>\n",
       "      <th>dale_chall_score</th>\n",
       "      <th>flesch reading ease score</th>\n",
       "      <th>gunning fog</th>\n",
       "      <th>flesch kincaid grade level</th>\n",
       "      <th>coleman liau index</th>\n",
       "      <th>smog index</th>\n",
       "      <th>automated readability index</th>\n",
       "      <th>linsear write formula</th>\n",
       "    </tr>\n",
       "  </thead>\n",
       "  <tbody>\n",
       "    <tr>\n",
       "      <th>0</th>\n",
       "      <td>0</td>\n",
       "      <td>-2011</td>\n",
       "      <td>NaN</td>\n",
       "      <td>2011</td>\n",
       "      <td>0.2075</td>\n",
       "      <td>121.22</td>\n",
       "      <td>0.4</td>\n",
       "      <td>-3.5</td>\n",
       "      <td>-22.21</td>\n",
       "      <td>0.0</td>\n",
       "      <td>2.6</td>\n",
       "      <td>-0.5</td>\n",
       "    </tr>\n",
       "    <tr>\n",
       "      <th>1</th>\n",
       "      <td>1</td>\n",
       "      <td>-2011</td>\n",
       "      <td>NaN</td>\n",
       "      <td>2011</td>\n",
       "      <td>0.2075</td>\n",
       "      <td>121.22</td>\n",
       "      <td>0.4</td>\n",
       "      <td>-3.5</td>\n",
       "      <td>-22.21</td>\n",
       "      <td>0.0</td>\n",
       "      <td>2.6</td>\n",
       "      <td>-0.5</td>\n",
       "    </tr>\n",
       "    <tr>\n",
       "      <th>2</th>\n",
       "      <td>2</td>\n",
       "      <td>-2000</td>\n",
       "      <td>NaN</td>\n",
       "      <td>2000</td>\n",
       "      <td>0.2075</td>\n",
       "      <td>121.22</td>\n",
       "      <td>0.4</td>\n",
       "      <td>-3.5</td>\n",
       "      <td>-22.21</td>\n",
       "      <td>0.0</td>\n",
       "      <td>2.6</td>\n",
       "      <td>-0.5</td>\n",
       "    </tr>\n",
       "    <tr>\n",
       "      <th>3</th>\n",
       "      <td>3</td>\n",
       "      <td>-1997</td>\n",
       "      <td>NaN</td>\n",
       "      <td>1997</td>\n",
       "      <td>0.2075</td>\n",
       "      <td>121.22</td>\n",
       "      <td>0.4</td>\n",
       "      <td>-3.5</td>\n",
       "      <td>-22.21</td>\n",
       "      <td>0.0</td>\n",
       "      <td>2.6</td>\n",
       "      <td>-0.5</td>\n",
       "    </tr>\n",
       "    <tr>\n",
       "      <th>4</th>\n",
       "      <td>4</td>\n",
       "      <td>1.636</td>\n",
       "      <td>NaN</td>\n",
       "      <td>1636</td>\n",
       "      <td>0.2075</td>\n",
       "      <td>121.22</td>\n",
       "      <td>0.4</td>\n",
       "      <td>-3.5</td>\n",
       "      <td>-22.21</td>\n",
       "      <td>0.0</td>\n",
       "      <td>2.6</td>\n",
       "      <td>-0.5</td>\n",
       "    </tr>\n",
       "  </tbody>\n",
       "</table>\n",
       "</div>"
      ],
      "text/plain": [
       "   id original_text  label clean_text  dale_chall_score  \\\n",
       "0   0         -2011    NaN       2011            0.2075   \n",
       "1   1         -2011    NaN       2011            0.2075   \n",
       "2   2         -2000    NaN       2000            0.2075   \n",
       "3   3         -1997    NaN       1997            0.2075   \n",
       "4   4         1.636    NaN       1636            0.2075   \n",
       "\n",
       "   flesch reading ease score  gunning fog  flesch kincaid grade level  \\\n",
       "0                     121.22          0.4                        -3.5   \n",
       "1                     121.22          0.4                        -3.5   \n",
       "2                     121.22          0.4                        -3.5   \n",
       "3                     121.22          0.4                        -3.5   \n",
       "4                     121.22          0.4                        -3.5   \n",
       "\n",
       "   coleman liau index  smog index  automated readability index  \\\n",
       "0              -22.21         0.0                          2.6   \n",
       "1              -22.21         0.0                          2.6   \n",
       "2              -22.21         0.0                          2.6   \n",
       "3              -22.21         0.0                          2.6   \n",
       "4              -22.21         0.0                          2.6   \n",
       "\n",
       "   linsear write formula  \n",
       "0                   -0.5  \n",
       "1                   -0.5  \n",
       "2                   -0.5  \n",
       "3                   -0.5  \n",
       "4                   -0.5  "
      ]
     },
     "execution_count": 24,
     "metadata": {},
     "output_type": "execute_result"
    }
   ],
   "source": [
    "data.head()"
   ]
  },
  {
   "cell_type": "code",
   "execution_count": null,
   "metadata": {
    "id": "gz3FVASIPvFS"
   },
   "outputs": [],
   "source": []
  }
 ],
 "metadata": {
  "colab": {
   "collapsed_sections": [],
   "name": "Reading Difficulty Features.ipynb",
   "provenance": []
  },
  "kernelspec": {
   "display_name": "Python 3",
   "language": "python",
   "name": "python3"
  },
  "language_info": {
   "codemirror_mode": {
    "name": "ipython",
    "version": 3
   },
   "file_extension": ".py",
   "mimetype": "text/x-python",
   "name": "python",
   "nbconvert_exporter": "python",
   "pygments_lexer": "ipython3",
   "version": "3.7.0"
  }
 },
 "nbformat": 4,
 "nbformat_minor": 4
}
