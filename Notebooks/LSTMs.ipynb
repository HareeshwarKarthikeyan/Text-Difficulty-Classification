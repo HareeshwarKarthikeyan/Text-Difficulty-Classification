{
 "cells": [
  {
   "cell_type": "code",
   "execution_count": 1,
   "id": "cfe7dbef",
   "metadata": {},
   "outputs": [],
   "source": [
    "import numpy as np\n",
    "import pandas as pd\n"
   ]
  },
  {
   "cell_type": "code",
   "execution_count": 2,
   "id": "2222d349",
   "metadata": {},
   "outputs": [],
   "source": [
    "data = pd.read_csv('readability_scores_included_train.csv')"
   ]
  },
  {
   "cell_type": "code",
   "execution_count": 3,
   "id": "83282877",
   "metadata": {},
   "outputs": [
    {
     "data": {
      "text/html": [
       "<div>\n",
       "<style scoped>\n",
       "    .dataframe tbody tr th:only-of-type {\n",
       "        vertical-align: middle;\n",
       "    }\n",
       "\n",
       "    .dataframe tbody tr th {\n",
       "        vertical-align: top;\n",
       "    }\n",
       "\n",
       "    .dataframe thead th {\n",
       "        text-align: right;\n",
       "    }\n",
       "</style>\n",
       "<table border=\"1\" class=\"dataframe\">\n",
       "  <thead>\n",
       "    <tr style=\"text-align: right;\">\n",
       "      <th></th>\n",
       "      <th>Unnamed: 0</th>\n",
       "      <th>original_text</th>\n",
       "      <th>label</th>\n",
       "      <th>clean_text</th>\n",
       "      <th>dale_chall_score</th>\n",
       "      <th>flesch reading ease score</th>\n",
       "      <th>gunning fog</th>\n",
       "      <th>flesch kincaid grade level</th>\n",
       "      <th>coleman liau index</th>\n",
       "      <th>smog index</th>\n",
       "      <th>automated readability index</th>\n",
       "      <th>linsear write formula</th>\n",
       "    </tr>\n",
       "  </thead>\n",
       "  <tbody>\n",
       "    <tr>\n",
       "      <th>0</th>\n",
       "      <td>0</td>\n",
       "      <td>There is manuscript evidence that Austen conti...</td>\n",
       "      <td>1</td>\n",
       "      <td>manuscript evidence austen continued work piec...</td>\n",
       "      <td>0.063579</td>\n",
       "      <td>41.37</td>\n",
       "      <td>20.46</td>\n",
       "      <td>16.9</td>\n",
       "      <td>8.77</td>\n",
       "      <td>0.0</td>\n",
       "      <td>19.0</td>\n",
       "      <td>26.5</td>\n",
       "    </tr>\n",
       "    <tr>\n",
       "      <th>1</th>\n",
       "      <td>1</td>\n",
       "      <td>In a remarkable comparative analysis , Mandaea...</td>\n",
       "      <td>1</td>\n",
       "      <td>remarkable comparative analysis mandaean schol...</td>\n",
       "      <td>0.105135</td>\n",
       "      <td>24.78</td>\n",
       "      <td>17.92</td>\n",
       "      <td>15.0</td>\n",
       "      <td>18.10</td>\n",
       "      <td>0.0</td>\n",
       "      <td>18.7</td>\n",
       "      <td>16.5</td>\n",
       "    </tr>\n",
       "    <tr>\n",
       "      <th>2</th>\n",
       "      <td>2</td>\n",
       "      <td>Before Persephone was released to Hermes , who...</td>\n",
       "      <td>1</td>\n",
       "      <td>persephone released hermes sent retrieve hades...</td>\n",
       "      <td>0.056000</td>\n",
       "      <td>37.31</td>\n",
       "      <td>20.61</td>\n",
       "      <td>18.5</td>\n",
       "      <td>10.52</td>\n",
       "      <td>0.0</td>\n",
       "      <td>22.3</td>\n",
       "      <td>27.0</td>\n",
       "    </tr>\n",
       "    <tr>\n",
       "      <th>3</th>\n",
       "      <td>3</td>\n",
       "      <td>Cogeneration plants are commonly found in dist...</td>\n",
       "      <td>1</td>\n",
       "      <td>cogeneration plants commonly found district he...</td>\n",
       "      <td>0.090344</td>\n",
       "      <td>5.16</td>\n",
       "      <td>20.30</td>\n",
       "      <td>20.5</td>\n",
       "      <td>19.74</td>\n",
       "      <td>0.0</td>\n",
       "      <td>25.2</td>\n",
       "      <td>25.5</td>\n",
       "    </tr>\n",
       "    <tr>\n",
       "      <th>4</th>\n",
       "      <td>4</td>\n",
       "      <td>Geneva -LRB- , ; , ; , ; ; -RRB- is the second...</td>\n",
       "      <td>1</td>\n",
       "      <td>geneva lrb rrb secondmostpopulous city switzer...</td>\n",
       "      <td>0.067169</td>\n",
       "      <td>26.14</td>\n",
       "      <td>12.63</td>\n",
       "      <td>16.6</td>\n",
       "      <td>12.65</td>\n",
       "      <td>0.0</td>\n",
       "      <td>20.5</td>\n",
       "      <td>21.0</td>\n",
       "    </tr>\n",
       "  </tbody>\n",
       "</table>\n",
       "</div>"
      ],
      "text/plain": [
       "   Unnamed: 0                                      original_text  label  \\\n",
       "0           0  There is manuscript evidence that Austen conti...      1   \n",
       "1           1  In a remarkable comparative analysis , Mandaea...      1   \n",
       "2           2  Before Persephone was released to Hermes , who...      1   \n",
       "3           3  Cogeneration plants are commonly found in dist...      1   \n",
       "4           4  Geneva -LRB- , ; , ; , ; ; -RRB- is the second...      1   \n",
       "\n",
       "                                          clean_text  dale_chall_score  \\\n",
       "0  manuscript evidence austen continued work piec...          0.063579   \n",
       "1  remarkable comparative analysis mandaean schol...          0.105135   \n",
       "2  persephone released hermes sent retrieve hades...          0.056000   \n",
       "3  cogeneration plants commonly found district he...          0.090344   \n",
       "4  geneva lrb rrb secondmostpopulous city switzer...          0.067169   \n",
       "\n",
       "   flesch reading ease score  gunning fog  flesch kincaid grade level  \\\n",
       "0                      41.37        20.46                        16.9   \n",
       "1                      24.78        17.92                        15.0   \n",
       "2                      37.31        20.61                        18.5   \n",
       "3                       5.16        20.30                        20.5   \n",
       "4                      26.14        12.63                        16.6   \n",
       "\n",
       "   coleman liau index  smog index  automated readability index  \\\n",
       "0                8.77         0.0                         19.0   \n",
       "1               18.10         0.0                         18.7   \n",
       "2               10.52         0.0                         22.3   \n",
       "3               19.74         0.0                         25.2   \n",
       "4               12.65         0.0                         20.5   \n",
       "\n",
       "   linsear write formula  \n",
       "0                   26.5  \n",
       "1                   16.5  \n",
       "2                   27.0  \n",
       "3                   25.5  \n",
       "4                   21.0  "
      ]
     },
     "execution_count": 3,
     "metadata": {},
     "output_type": "execute_result"
    }
   ],
   "source": [
    "data.head()"
   ]
  },
  {
   "cell_type": "code",
   "execution_count": 4,
   "id": "ec52f44a",
   "metadata": {},
   "outputs": [
    {
     "name": "stderr",
     "output_type": "stream",
     "text": [
      "[nltk_data] Downloading package stopwords to\n",
      "[nltk_data]     /home/hkarthik/nltk_data...\n",
      "[nltk_data]   Package stopwords is already up-to-date!\n",
      "[nltk_data] Downloading package wordnet to /home/hkarthik/nltk_data...\n",
      "[nltk_data]   Package wordnet is already up-to-date!\n"
     ]
    }
   ],
   "source": [
    "import re\n",
    "import nltk\n",
    "def preprocess_text(text, flg_stemm=False, flg_lemm=True, lst_stopwords=None):\n",
    "  \n",
    "    ## clean (convert to lowercase and remove punctuations and characters and then strip)\n",
    "    text = re.sub(r'[^\\w\\s]', '', str(text).lower().strip())\n",
    "            \n",
    "    ## Tokenize (convert from string to list)\n",
    "    lst_text = text.split()\n",
    "\n",
    "    ## remove Stopwords\n",
    "    if lst_stopwords is not None:\n",
    "        lst_text = [word for word in lst_text if word not in \n",
    "                    lst_stopwords]\n",
    "                \n",
    "    ## Stemming (remove -ing, -ly, ...)\n",
    "    if flg_stemm == True:\n",
    "        ps = nltk.stem.porter.PorterStemmer()\n",
    "        lst_text = [ps.stem(word) for word in lst_text]\n",
    "                \n",
    "    ## Lemmatisation (convert the word into root word)\n",
    "    if flg_lemm == True:\n",
    "        lem = nltk.stem.wordnet.WordNetLemmatizer()\n",
    "        lst_text = [lem.lemmatize(word) for word in lst_text]\n",
    "            \n",
    "    ## back to string from list\n",
    "    text = \" \".join(lst_text)\n",
    "#     if len(text)==0:\n",
    "#         return 'simple'\n",
    "    return text\n",
    "nltk.download('stopwords')\n",
    "nltk.download('wordnet')\n",
    "lst_stopwords = nltk.corpus.stopwords.words(\"english\")\n",
    "data[\"clean_text\"] = data[\"original_text\"].apply(lambda row: \\\n",
    "          preprocess_text(row, flg_stemm=False, flg_lemm=True, lst_stopwords=lst_stopwords))"
   ]
  },
  {
   "cell_type": "code",
   "execution_count": 5,
   "id": "6dd1b500",
   "metadata": {},
   "outputs": [
    {
     "name": "stdout",
     "output_type": "stream",
     "text": [
      "Defaulting to user installation because normal site-packages is not writeable\n",
      "Requirement already satisfied: gensim in ./.local/lib/python3.8/site-packages (4.1.2)\n",
      "Requirement already satisfied: scipy>=0.18.1 in /sw/arcts/centos7/python3.8-anaconda/2021.05/lib/python3.8/site-packages (from gensim) (1.6.2)\n",
      "Requirement already satisfied: numpy>=1.17.0 in /sw/arcts/centos7/python3.8-anaconda/2021.05/tensorflow/2.5.0/lib/python3.8/site-packages (from gensim) (1.19.5)\n",
      "Requirement already satisfied: smart-open>=1.8.1 in ./.local/lib/python3.8/site-packages (from gensim) (5.2.1)\n"
     ]
    }
   ],
   "source": [
    "!pip3 install gensim"
   ]
  },
  {
   "cell_type": "code",
   "execution_count": 6,
   "id": "d053cead",
   "metadata": {},
   "outputs": [],
   "source": [
    "from sklearn import feature_extraction, model_selection, naive_bayes, pipeline, manifold, preprocessing\n",
    "import matplotlib.pyplot as plt\n",
    "import seaborn as sns"
   ]
  },
  {
   "cell_type": "code",
   "execution_count": 7,
   "id": "da60e43b",
   "metadata": {},
   "outputs": [],
   "source": [
    "corpus = data['clean_text']\n",
    "\n",
    "## create list of lists of unigrams\n",
    "lst_corpus = []\n",
    "for string in corpus:\n",
    "   lst_words = str(string).split()\n",
    "   lst_grams = [\" \".join(lst_words[i:i+1]) \n",
    "               for i in range(0, len(lst_words), 1)]\n",
    "   lst_corpus.append(lst_grams)\n",
    "\n",
    "# ## detect bigrams and trigrams\n",
    "# bigrams_detector_phrases = gensim.models.phrases.Phrases(lst_corpus, delimiter=\" \".encode(), min_count=5, threshold=10)\n",
    "# bigrams_detector_phraser = gensim.models.phrases.Phraser(bigrams_detector_phrases)\n",
    "\n",
    "# trigrams_detector_phrases = gensim.models.phrases.Phrases(bigrams_detector_phraser[lst_corpus], delimiter=\" \".encode(), min_count=5, threshold=10)\n",
    "# trigrams_detector_phraser = gensim.models.phrases.Phraser(trigrams_detector_phrases)"
   ]
  },
  {
   "cell_type": "code",
   "execution_count": 8,
   "id": "612957aa",
   "metadata": {},
   "outputs": [],
   "source": [
    "data['clean_length'] = data['clean_text'].apply(lambda text: len(str(text).split()))"
   ]
  },
  {
   "cell_type": "code",
   "execution_count": 9,
   "id": "73548a23",
   "metadata": {},
   "outputs": [
    {
     "data": {
      "text/html": [
       "<div>\n",
       "<style scoped>\n",
       "    .dataframe tbody tr th:only-of-type {\n",
       "        vertical-align: middle;\n",
       "    }\n",
       "\n",
       "    .dataframe tbody tr th {\n",
       "        vertical-align: top;\n",
       "    }\n",
       "\n",
       "    .dataframe thead th {\n",
       "        text-align: right;\n",
       "    }\n",
       "</style>\n",
       "<table border=\"1\" class=\"dataframe\">\n",
       "  <thead>\n",
       "    <tr style=\"text-align: right;\">\n",
       "      <th></th>\n",
       "      <th>Unnamed: 0</th>\n",
       "      <th>original_text</th>\n",
       "      <th>label</th>\n",
       "      <th>clean_text</th>\n",
       "      <th>dale_chall_score</th>\n",
       "      <th>flesch reading ease score</th>\n",
       "      <th>gunning fog</th>\n",
       "      <th>flesch kincaid grade level</th>\n",
       "      <th>coleman liau index</th>\n",
       "      <th>smog index</th>\n",
       "      <th>automated readability index</th>\n",
       "      <th>linsear write formula</th>\n",
       "      <th>clean_length</th>\n",
       "    </tr>\n",
       "  </thead>\n",
       "  <tbody>\n",
       "    <tr>\n",
       "      <th>0</th>\n",
       "      <td>0</td>\n",
       "      <td>There is manuscript evidence that Austen conti...</td>\n",
       "      <td>1</td>\n",
       "      <td>manuscript evidence austen continued work piec...</td>\n",
       "      <td>0.063579</td>\n",
       "      <td>41.37</td>\n",
       "      <td>20.46</td>\n",
       "      <td>16.9</td>\n",
       "      <td>8.77</td>\n",
       "      <td>0.0</td>\n",
       "      <td>19.0</td>\n",
       "      <td>26.5</td>\n",
       "      <td>21</td>\n",
       "    </tr>\n",
       "    <tr>\n",
       "      <th>1</th>\n",
       "      <td>1</td>\n",
       "      <td>In a remarkable comparative analysis , Mandaea...</td>\n",
       "      <td>1</td>\n",
       "      <td>remarkable comparative analysis mandaean schol...</td>\n",
       "      <td>0.105135</td>\n",
       "      <td>24.78</td>\n",
       "      <td>17.92</td>\n",
       "      <td>15.0</td>\n",
       "      <td>18.10</td>\n",
       "      <td>0.0</td>\n",
       "      <td>18.7</td>\n",
       "      <td>16.5</td>\n",
       "      <td>14</td>\n",
       "    </tr>\n",
       "    <tr>\n",
       "      <th>2</th>\n",
       "      <td>2</td>\n",
       "      <td>Before Persephone was released to Hermes , who...</td>\n",
       "      <td>1</td>\n",
       "      <td>persephone released hermes sent retrieve hades...</td>\n",
       "      <td>0.056000</td>\n",
       "      <td>37.31</td>\n",
       "      <td>20.61</td>\n",
       "      <td>18.5</td>\n",
       "      <td>10.52</td>\n",
       "      <td>0.0</td>\n",
       "      <td>22.3</td>\n",
       "      <td>27.0</td>\n",
       "      <td>21</td>\n",
       "    </tr>\n",
       "    <tr>\n",
       "      <th>3</th>\n",
       "      <td>3</td>\n",
       "      <td>Cogeneration plants are commonly found in dist...</td>\n",
       "      <td>1</td>\n",
       "      <td>cogeneration plant commonly found district hea...</td>\n",
       "      <td>0.090344</td>\n",
       "      <td>5.16</td>\n",
       "      <td>20.30</td>\n",
       "      <td>20.5</td>\n",
       "      <td>19.74</td>\n",
       "      <td>0.0</td>\n",
       "      <td>25.2</td>\n",
       "      <td>25.5</td>\n",
       "      <td>27</td>\n",
       "    </tr>\n",
       "    <tr>\n",
       "      <th>4</th>\n",
       "      <td>4</td>\n",
       "      <td>Geneva -LRB- , ; , ; , ; ; -RRB- is the second...</td>\n",
       "      <td>1</td>\n",
       "      <td>geneva lrb rrb secondmostpopulous city switzer...</td>\n",
       "      <td>0.067169</td>\n",
       "      <td>26.14</td>\n",
       "      <td>12.63</td>\n",
       "      <td>16.6</td>\n",
       "      <td>12.65</td>\n",
       "      <td>0.0</td>\n",
       "      <td>20.5</td>\n",
       "      <td>21.0</td>\n",
       "      <td>17</td>\n",
       "    </tr>\n",
       "  </tbody>\n",
       "</table>\n",
       "</div>"
      ],
      "text/plain": [
       "   Unnamed: 0                                      original_text  label  \\\n",
       "0           0  There is manuscript evidence that Austen conti...      1   \n",
       "1           1  In a remarkable comparative analysis , Mandaea...      1   \n",
       "2           2  Before Persephone was released to Hermes , who...      1   \n",
       "3           3  Cogeneration plants are commonly found in dist...      1   \n",
       "4           4  Geneva -LRB- , ; , ; , ; ; -RRB- is the second...      1   \n",
       "\n",
       "                                          clean_text  dale_chall_score  \\\n",
       "0  manuscript evidence austen continued work piec...          0.063579   \n",
       "1  remarkable comparative analysis mandaean schol...          0.105135   \n",
       "2  persephone released hermes sent retrieve hades...          0.056000   \n",
       "3  cogeneration plant commonly found district hea...          0.090344   \n",
       "4  geneva lrb rrb secondmostpopulous city switzer...          0.067169   \n",
       "\n",
       "   flesch reading ease score  gunning fog  flesch kincaid grade level  \\\n",
       "0                      41.37        20.46                        16.9   \n",
       "1                      24.78        17.92                        15.0   \n",
       "2                      37.31        20.61                        18.5   \n",
       "3                       5.16        20.30                        20.5   \n",
       "4                      26.14        12.63                        16.6   \n",
       "\n",
       "   coleman liau index  smog index  automated readability index  \\\n",
       "0                8.77         0.0                         19.0   \n",
       "1               18.10         0.0                         18.7   \n",
       "2               10.52         0.0                         22.3   \n",
       "3               19.74         0.0                         25.2   \n",
       "4               12.65         0.0                         20.5   \n",
       "\n",
       "   linsear write formula  clean_length  \n",
       "0                   26.5            21  \n",
       "1                   16.5            14  \n",
       "2                   27.0            21  \n",
       "3                   25.5            27  \n",
       "4                   21.0            17  "
      ]
     },
     "execution_count": 9,
     "metadata": {},
     "output_type": "execute_result"
    }
   ],
   "source": [
    "data.head()"
   ]
  },
  {
   "cell_type": "code",
   "execution_count": 10,
   "id": "887f76b7",
   "metadata": {},
   "outputs": [
    {
     "data": {
      "text/plain": [
       "<AxesSubplot:>"
      ]
     },
     "execution_count": 10,
     "metadata": {},
     "output_type": "execute_result"
    },
    {
     "data": {
      "image/png": "[encoded data removed]",
      "text/plain": [
       "<Figure size 432x288 with 1 Axes>"
      ]
     },
     "metadata": {
      "needs_background": "light"
     },
     "output_type": "display_data"
    }
   ],
   "source": [
    "data['clean_length'].hist()"
   ]
  },
  {
   "cell_type": "code",
   "execution_count": 11,
   "id": "3d292d92",
   "metadata": {},
   "outputs": [],
   "source": [
    "# Majority of the clean data is within the 30 word length\n",
    "from tensorflow.keras import models, layers, preprocessing as kpreprocessing\n",
    "from tensorflow.keras import backend as kbackend"
   ]
  },
  {
   "cell_type": "code",
   "execution_count": 32,
   "id": "1a900a19",
   "metadata": {},
   "outputs": [],
   "source": [
    "\n",
    "# tokenize text\n",
    "tokenizer = kpreprocessing.text.Tokenizer(lower=True, split=' ', oov_token=\"NaN\", \\\n",
    "                     filters='!\"#$%&()*+,-./:;<=>?@[\\\\]^_`{|}~\\t\\n')\n",
    "tokenizer.fit_on_texts(lst_corpus)\n",
    "dic_vocabulary = tokenizer.word_index\n",
    "\n",
    "## create sequence\n",
    "lst_text2seq= tokenizer.texts_to_sequences(lst_corpus)\n",
    "## padding sequence\n",
    "X_train = kpreprocessing.sequence.pad_sequences(lst_text2seq, \n",
    "                    maxlen=30, padding=\"post\", truncating=\"post\")"
   ]
  },
  {
   "cell_type": "code",
   "execution_count": 33,
   "id": "bafbcb1c",
   "metadata": {},
   "outputs": [
    {
     "data": {
      "text/plain": [
       "(416768, 30)"
      ]
     },
     "execution_count": 33,
     "metadata": {},
     "output_type": "execute_result"
    }
   ],
   "source": [
    "X_train.shape"
   ]
  },
  {
   "cell_type": "code",
   "execution_count": 34,
   "id": "7cddf6ee",
   "metadata": {},
   "outputs": [
    {
     "data": {
      "image/png": "[encoded data removed]",
      "text/plain": [
       "<Figure size 432x288 with 1 Axes>"
      ]
     },
     "metadata": {
      "needs_background": "light"
     },
     "output_type": "display_data"
    }
   ],
   "source": [
    "sns.heatmap(X_train==0, vmin=0, vmax=1, cbar=False)\n",
    "plt.show()"
   ]
  },
  {
   "cell_type": "code",
   "execution_count": 12,
   "id": "ba9189f6",
   "metadata": {},
   "outputs": [
    {
     "data": {
      "image/png": "[encoded data removed]",
      "text/plain": [
       "<Figure size 432x288 with 1 Axes>"
      ]
     },
     "metadata": {
      "needs_background": "light"
     },
     "output_type": "display_data"
    }
   ],
   "source": [
    "#Only few exceed 25. So let's stick to 25 word length\n",
    "# tokenize text\n",
    "tokenizer = kpreprocessing.text.Tokenizer(lower=True, split=' ', oov_token=\"NaN\", \\\n",
    "                     filters='!\"#$%&()*+,-./:;<=>?@[\\\\]^_`{|}~\\t\\n')\n",
    "tokenizer.fit_on_texts(lst_corpus)\n",
    "dic_vocabulary = tokenizer.word_index\n",
    "## create sequence\n",
    "lst_text2seq= tokenizer.texts_to_sequences(lst_corpus)\n",
    "## padding sequence\n",
    "X_train = kpreprocessing.sequence.pad_sequences(lst_text2seq, \n",
    "                    maxlen=25, padding=\"post\", truncating=\"post\")\n",
    "sns.heatmap(X_train==0, vmin=0, vmax=1, cbar=False)\n",
    "plt.show()"
   ]
  },
  {
   "cell_type": "code",
   "execution_count": 13,
   "id": "ff78abc3",
   "metadata": {},
   "outputs": [],
   "source": [
    "import gensim\n",
    "# gensim word vector model\n",
    "model = gensim.models.KeyedVectors.load_word2vec_format('GoogleNews-vectors-negative300.bin', binary = True) "
   ]
  },
  {
   "cell_type": "code",
   "execution_count": 14,
   "id": "2d62ee2d",
   "metadata": {},
   "outputs": [],
   "source": [
    "# Creating the embedding matrix\n",
    "# Matrix of embedding that will be used as a weight matrix in the neural network classifier\n",
    "## start the matrix (length of vocabulary x vector size) with all 0s\n",
    "embeddings = np.zeros((len(dic_vocabulary)+1, 300))\n",
    "for word,idx in dic_vocabulary.items():\n",
    "    ## update the row with vector\n",
    "    try:\n",
    "        embeddings[idx] =  model[word]\n",
    "    ## if word not in model then skip and the row stays all 0s\n",
    "    except:\n",
    "        pass"
   ]
  },
  {
   "cell_type": "code",
   "execution_count": 15,
   "id": "157731d7",
   "metadata": {},
   "outputs": [
    {
     "data": {
      "text/plain": [
       "(153934, 300)"
      ]
     },
     "execution_count": 15,
     "metadata": {},
     "output_type": "execute_result"
    }
   ],
   "source": [
    "embeddings.shape"
   ]
  },
  {
   "cell_type": "code",
   "execution_count": 31,
   "id": "b7245b3b",
   "metadata": {},
   "outputs": [
    {
     "name": "stdout",
     "output_type": "stream",
     "text": [
      "Defaulting to user installation because normal site-packages is not writeable\n",
      "Collecting keras_metrics\n",
      "  Downloading keras_metrics-1.1.0-py2.py3-none-any.whl (5.6 kB)\n",
      "Collecting Keras>=2.1.5\n",
      "  Downloading keras-2.7.0-py2.py3-none-any.whl (1.3 MB)\n",
      "\u001b[K     |████████████████████████████████| 1.3 MB 11.6 MB/s eta 0:00:01\n",
      "\u001b[?25hInstalling collected packages: Keras, keras-metrics\n",
      "Successfully installed Keras-2.7.0 keras-metrics-1.1.0\n"
     ]
    }
   ],
   "source": [
    "!pip install keras_metrics\n",
    "import keras_metrics\n"
   ]
  },
  {
   "attachments": {
    "image.png": {
     "image/png": "[encoded data removed]"
    }
   },
   "cell_type": "markdown",
   "id": "01cd3e02",
   "metadata": {},
   "source": [
    "![image.png](attachment:image.png)"
   ]
  },
  {
   "cell_type": "code",
   "execution_count": 32,
   "id": "5f8c92cc",
   "metadata": {},
   "outputs": [],
   "source": [
    "from keras.layers import Conv1D, MaxPooling1D\n",
    "## code attention layer\n",
    "def attention_layer(inputs, neurons):\n",
    "    x = layers.Permute((2,1))(inputs)\n",
    "    x = layers.Dense(neurons, activation=\"sigmoid\")(x)\n",
    "    x = layers.Permute((2,1))(x)\n",
    "    x = layers.multiply([inputs, x])\n",
    "    return x\n",
    "\n",
    "# ## input\n",
    "x_in = layers.Input(shape=(25,))\n",
    "## embedding\n",
    "x = layers.Embedding(input_dim=embeddings.shape[0],  \n",
    "                     output_dim=embeddings.shape[1], \n",
    "                     weights=[embeddings],\n",
    "                     input_length=25, trainable=False)(x_in)\n",
    "\n",
    "\n",
    "# ## apply attention\n",
    "# x = attention_layer(x, neurons=25)\n",
    "\n",
    "## 2 layers of bidirectional lstm\n",
    "x = layers.Bidirectional(layers.LSTM(units=25,\n",
    "                         return_sequences=True))(x)\n",
    "\n",
    "\n",
    "x = layers.Bidirectional(layers.LSTM(units=25, \n",
    "                         return_sequences=True))(x)\n",
    "\n",
    "x = attention_layer(x, neurons=25)\n",
    "\n",
    "x = layers.Bidirectional(layers.LSTM(units=25))(x)\n",
    "\n",
    "\n",
    "\n",
    "## final dense layers\n",
    "x = layers.Dense(64, activation='relu')(x)\n",
    "y_out = layers.Dense(1, activation='sigmoid')(x)\n",
    "\n",
    "## compile\n",
    "model = models.Model(x_in, y_out)\n",
    "model.compile(loss='binary_crossentropy',\n",
    "              optimizer='adam', metrics=['accuracy',keras_metrics.recall()])\n",
    "\n",
    "#model.summary()"
   ]
  },
  {
   "cell_type": "code",
   "execution_count": 33,
   "id": "1e0f2924",
   "metadata": {},
   "outputs": [],
   "source": [
    "# Recreating X_train\n",
    "X_train = kpreprocessing.sequence.pad_sequences(lst_text2seq, \n",
    "                    maxlen=25, padding=\"post\", truncating=\"post\")\n",
    "y_train = np.array(data['label'])"
   ]
  },
  {
   "cell_type": "code",
   "execution_count": 34,
   "id": "ed3ace93",
   "metadata": {},
   "outputs": [
    {
     "name": "stdout",
     "output_type": "stream",
     "text": [
      "WARNING:tensorflow:`add_update` `inputs` kwarg has been deprecated. You no longer need to pass a value to `inputs` as it is being automatically inferred.\n",
      "WARNING:tensorflow:`add_update` `inputs` kwarg has been deprecated. You no longer need to pass a value to `inputs` as it is being automatically inferred.\n"
     ]
    },
    {
     "name": "stderr",
     "output_type": "stream",
     "text": [
      "/sw/arcts/centos7/python3.8-anaconda/2021.05/tensorflow/2.5.0/lib/python3.8/site-packages/keras/engine/base_layer.py:1307: UserWarning: `layer.updates` will be removed in a future version. This property should not be used in TensorFlow 2.0, as `updates` are applied automatically.\n",
      "  warnings.warn('`layer.updates` will be removed in a future version. '\n"
     ]
    },
    {
     "name": "stdout",
     "output_type": "stream",
     "text": [
      "WARNING:tensorflow:`add_update` `inputs` kwarg has been deprecated. You no longer need to pass a value to `inputs` as it is being automatically inferred.\n",
      "WARNING:tensorflow:`add_update` `inputs` kwarg has been deprecated. You no longer need to pass a value to `inputs` as it is being automatically inferred.\n",
      "9898/9899 [============================>.] - ETA: 0s - loss: 0.5834 - accuracy: 0.6832 - recall: 0.6977WARNING:tensorflow:`add_update` `inputs` kwarg has been deprecated. You no longer need to pass a value to `inputs` as it is being automatically inferred.\n",
      "WARNING:tensorflow:`add_update` `inputs` kwarg has been deprecated. You no longer need to pass a value to `inputs` as it is being automatically inferred.\n",
      "9899/9899 [==============================] - 284s 28ms/step - loss: 0.5834 - accuracy: 0.6832 - recall: 0.6977 - val_loss: 0.5659 - val_accuracy: 0.6939 - val_recall: 0.7053\n"
     ]
    }
   ],
   "source": [
    "## training \n",
    "from sklearn.model_selection import train_test_split\n",
    "y_train = np.array(data['label'])\n",
    "#X_train, X_test, y_train, y_test = train_test_split(X_train, y_train, test_size=0.00001, random_state=42)\n",
    "training = model.fit(x=X_train, y=y_train, batch_size=32, \n",
    "                     epochs=1, shuffle=True, verbose=1,\n",
    "                    validation_split=0.2)"
   ]
  },
  {
   "cell_type": "code",
   "execution_count": 35,
   "id": "6cff65ad",
   "metadata": {},
   "outputs": [
    {
     "name": "stdout",
     "output_type": "stream",
     "text": [
      "11136/11136 [==============================] - 294s 26ms/step - loss: 0.5560 - accuracy: 0.7029 - recall: 0.7098 - val_loss: 0.5520 - val_accuracy: 0.7046 - val_recall: 0.7158\n"
     ]
    }
   ],
   "source": [
    "training = model.fit(x=X_train, y=y_train, batch_size=16, \n",
    "                     epochs=1, shuffle=True, verbose=1,\n",
    "                    validation_split=0.1)"
   ]
  },
  {
   "cell_type": "code",
   "execution_count": 36,
   "id": "bb7d4c85",
   "metadata": {},
   "outputs": [
    {
     "name": "stdout",
     "output_type": "stream",
     "text": [
      "2784/2784 [==============================] - 79s 28ms/step - loss: 0.5387 - accuracy: 0.7149 - recall: 0.7210 - val_loss: 0.5477 - val_accuracy: 0.7088 - val_recall: 0.7238\n"
     ]
    }
   ],
   "source": [
    "training = model.fit(x=X_train, y=y_train, batch_size=64, \n",
    "                     epochs=1, shuffle=True, verbose=1,\n",
    "                    validation_split=0.1)"
   ]
  },
  {
   "cell_type": "code",
   "execution_count": 37,
   "id": "25bac1ff",
   "metadata": {},
   "outputs": [
    {
     "name": "stdout",
     "output_type": "stream",
     "text": [
      "9899/9899 [==============================] - 274s 28ms/step - loss: 0.5379 - accuracy: 0.7153 - recall: 0.7257 - val_loss: 0.5425 - val_accuracy: 0.7137 - val_recall: 0.7263\n"
     ]
    }
   ],
   "source": [
    "training = model.fit(x=X_train, y=y_train, batch_size=32, \n",
    "                     epochs=1, shuffle=True, verbose=1,\n",
    "                    validation_split=0.2)\n",
    "# run this for ten epochs and submit to kaggle\n"
   ]
  },
  {
   "cell_type": "code",
   "execution_count": null,
   "id": "49545535",
   "metadata": {},
   "outputs": [],
   "source": [
    "training = model.fit(x=X_train, y=y_train, batch_size=32, \n",
    "                     epochs=10, shuffle=True, verbose=1,\n",
    "                    validation_split=0.2)\n",
    "# Done :)\n",
    "# Not rerun during final code cleaning to save time "
   ]
  },
  {
   "cell_type": "code",
   "execution_count": 38,
   "id": "c038e23c",
   "metadata": {},
   "outputs": [
    {
     "name": "stdout",
     "output_type": "stream",
     "text": [
      "9899/9899 [==============================] - 274s 28ms/step - loss: 0.5270 - accuracy: 0.7230 - recall: 0.7272 - val_loss: 0.5445 - val_accuracy: 0.7134 - val_recall: 0.7295\n"
     ]
    }
   ],
   "source": [
    "training = model.fit(x=X_train, y=y_train, batch_size=16, \n",
    "                     epochs=1, shuffle=True, verbose=1,\n",
    "                    validation_split=0.2)"
   ]
  },
  {
   "cell_type": "code",
   "execution_count": 39,
   "id": "88ea1a32",
   "metadata": {},
   "outputs": [
    {
     "name": "stdout",
     "output_type": "stream",
     "text": [
      "9899/9899 [==============================] - 274s 28ms/step - loss: 0.5169 - accuracy: 0.7301 - recall: 0.7318 - val_loss: 0.5429 - val_accuracy: 0.7124 - val_recall: 0.7333\n"
     ]
    }
   ],
   "source": [
    "training = model.fit(x=X_train, y=y_train, batch_size=64, \n",
    "                     epochs=1, shuffle=True, verbose=1,\n",
    "                    validation_split=0.2)"
   ]
  },
  {
   "cell_type": "code",
   "execution_count": 40,
   "id": "d18449e6",
   "metadata": {},
   "outputs": [],
   "source": [
    "data2 = pd.read_csv('readability_scores_included_test.csv')"
   ]
  },
  {
   "cell_type": "code",
   "execution_count": 68,
   "id": "53bf3c90",
   "metadata": {},
   "outputs": [],
   "source": [
    "# Get the test data in the corpus\n",
    "data2['clean_text'] = data2[\"original_text\"].apply(lambda row: \\\n",
    "          preprocess_text(row, flg_stemm=False, flg_lemm=True, lst_stopwords=lst_stopwords))\n",
    "corpus = data2['clean_text']\n",
    "\n",
    "## create list of lists of unigrams\n",
    "lst_corpus = []\n",
    "for string in corpus:\n",
    "   lst_words = str(string).split()\n",
    "   lst_grams = [\" \".join(lst_words[i:i+1]) \n",
    "               for i in range(0, len(lst_words), 1)]\n",
    "   lst_corpus.append(lst_grams)\n",
    "\n",
    "## create sequence\n",
    "lst_text2seq= tokenizer.texts_to_sequences(lst_corpus)\n",
    "## padding sequence\n",
    "X_test = kpreprocessing.sequence.pad_sequences(lst_text2seq, \n",
    "                    maxlen=25, padding=\"post\", truncating=\"post\")\n",
    "pred = model.predict(X_test)"
   ]
  },
  {
   "cell_type": "code",
   "execution_count": 69,
   "id": "23f7929d",
   "metadata": {},
   "outputs": [],
   "source": [
    "predictions = [1 if value>0.5 else 0 for value in pred]"
   ]
  },
  {
   "cell_type": "code",
   "execution_count": 70,
   "id": "368f4351",
   "metadata": {},
   "outputs": [
    {
     "name": "stderr",
     "output_type": "stream",
     "text": [
      "<ipython-input-70-88408b618f03>:2: SettingWithCopyWarning: \n",
      "A value is trying to be set on a copy of a slice from a DataFrame.\n",
      "Try using .loc[row_indexer,col_indexer] = value instead\n",
      "\n",
      "See the caveats in the documentation: https://pandas.pydata.org/pandas-docs/stable/user_guide/indexing.html#returning-a-view-versus-a-copy\n",
      "  datax['label'] = predictions\n"
     ]
    },
    {
     "data": {
      "text/html": [
       "<div>\n",
       "<style scoped>\n",
       "    .dataframe tbody tr th:only-of-type {\n",
       "        vertical-align: middle;\n",
       "    }\n",
       "\n",
       "    .dataframe tbody tr th {\n",
       "        vertical-align: top;\n",
       "    }\n",
       "\n",
       "    .dataframe thead th {\n",
       "        text-align: right;\n",
       "    }\n",
       "</style>\n",
       "<table border=\"1\" class=\"dataframe\">\n",
       "  <thead>\n",
       "    <tr style=\"text-align: right;\">\n",
       "      <th></th>\n",
       "      <th>id</th>\n",
       "      <th>label</th>\n",
       "    </tr>\n",
       "  </thead>\n",
       "  <tbody>\n",
       "    <tr>\n",
       "      <th>0</th>\n",
       "      <td>0</td>\n",
       "      <td>0</td>\n",
       "    </tr>\n",
       "    <tr>\n",
       "      <th>1</th>\n",
       "      <td>1</td>\n",
       "      <td>0</td>\n",
       "    </tr>\n",
       "    <tr>\n",
       "      <th>2</th>\n",
       "      <td>2</td>\n",
       "      <td>0</td>\n",
       "    </tr>\n",
       "    <tr>\n",
       "      <th>3</th>\n",
       "      <td>3</td>\n",
       "      <td>0</td>\n",
       "    </tr>\n",
       "    <tr>\n",
       "      <th>4</th>\n",
       "      <td>4</td>\n",
       "      <td>0</td>\n",
       "    </tr>\n",
       "    <tr>\n",
       "      <th>5</th>\n",
       "      <td>5</td>\n",
       "      <td>0</td>\n",
       "    </tr>\n",
       "    <tr>\n",
       "      <th>6</th>\n",
       "      <td>6</td>\n",
       "      <td>0</td>\n",
       "    </tr>\n",
       "    <tr>\n",
       "      <th>7</th>\n",
       "      <td>7</td>\n",
       "      <td>0</td>\n",
       "    </tr>\n",
       "    <tr>\n",
       "      <th>8</th>\n",
       "      <td>8</td>\n",
       "      <td>0</td>\n",
       "    </tr>\n",
       "    <tr>\n",
       "      <th>9</th>\n",
       "      <td>9</td>\n",
       "      <td>0</td>\n",
       "    </tr>\n",
       "  </tbody>\n",
       "</table>\n",
       "</div>"
      ],
      "text/plain": [
       "   id  label\n",
       "0   0      0\n",
       "1   1      0\n",
       "2   2      0\n",
       "3   3      0\n",
       "4   4      0\n",
       "5   5      0\n",
       "6   6      0\n",
       "7   7      0\n",
       "8   8      0\n",
       "9   9      0"
      ]
     },
     "execution_count": 70,
     "metadata": {},
     "output_type": "execute_result"
    }
   ],
   "source": [
    "datax = data2[['id','original_text']]\n",
    "datax['label'] = predictions\n",
    "datax = datax.drop(axis=1,columns=['original_text'])"
   ]
  },
  {
   "cell_type": "code",
   "execution_count": 71,
   "id": "c4ff04ce",
   "metadata": {},
   "outputs": [],
   "source": [
    "datax['label'].to_csv('submission1.csv') "
   ]
  },
  {
   "cell_type": "code",
   "execution_count": 126,
   "id": "97c61d00",
   "metadata": {},
   "outputs": [],
   "source": [
    "datax = data2['id']"
   ]
  },
  {
   "cell_type": "code",
   "execution_count": 129,
   "id": "bb510e09",
   "metadata": {},
   "outputs": [],
   "source": [
    "datax['pred'] = np.array(predictions)"
   ]
  },
  {
   "cell_type": "code",
   "execution_count": 44,
   "id": "9dd2c251",
   "metadata": {},
   "outputs": [
    {
     "name": "stdout",
     "output_type": "stream",
     "text": [
      "WARNING:tensorflow:Please add `keras.layers.InputLayer` instead of `keras.Input` to Sequential model. `keras.Input` is intended to be used by Functional model.\n",
      "Model: \"sequential_1\"\n",
      "_________________________________________________________________\n",
      "Layer (type)                 Output Shape              Param #   \n",
      "=================================================================\n",
      "embedding_1 (Embedding)      (None, 25, 300)           46180200  \n",
      "_________________________________________________________________\n",
      "module_wrapper_3 (ModuleWrap (None, 25, 50)            65200     \n",
      "_________________________________________________________________\n",
      "module_wrapper_4 (ModuleWrap (None, 25, 50)            15200     \n",
      "_________________________________________________________________\n",
      "conv1d_1 (Conv1D)            (None, 25, 25)            3775      \n",
      "_________________________________________________________________\n",
      "max_pooling1d_1 (MaxPooling1 (None, 12, 25)            0         \n",
      "_________________________________________________________________\n",
      "module_wrapper_5 (ModuleWrap (None, 50)                10200     \n",
      "_________________________________________________________________\n",
      "dense_2 (Dense)              (None, 64)                3264      \n",
      "_________________________________________________________________\n",
      "dense_3 (Dense)              (None, 1)                 65        \n",
      "=================================================================\n",
      "Total params: 46,277,904\n",
      "Trainable params: 97,704\n",
      "Non-trainable params: 46,180,200\n",
      "_________________________________________________________________\n",
      "None\n"
     ]
    }
   ],
   "source": [
    "# create the model\n",
    "from keras import Sequential\n",
    "from keras.models import Model\n",
    "from keras.models import Sequential\n",
    "from keras.layers import Input\n",
    "from keras.layers import LSTM\n",
    "from keras.layers import Dense\n",
    "from keras.layers.embeddings import Embedding\n",
    "from keras.layers import Dropout\n",
    "from keras.layers import Conv1D, MaxPooling1D\n",
    "\n",
    "\n",
    "def attention_layer(inputs, neurons):\n",
    "    x = layers.Permute((2,1))(inputs)\n",
    "    x = layers.Dense(neurons, activation=\"sigmoid\")(x)\n",
    "    x = layers.Permute((2,1), name=\"attention\")(x)\n",
    "    x = layers.multiply([inputs, x])\n",
    "    return x\n",
    "\n",
    "model = Sequential()\n",
    "\n",
    "model.add(Input(shape=(25,)))\n",
    "model.add(Embedding(input_dim=embeddings.shape[0],  \n",
    "                     output_dim=embeddings.shape[1], \n",
    "                     weights=[embeddings],\n",
    "                     input_length=25, trainable=False))\n",
    "\n",
    "# model.add(attention_layer(model, neurons=25))\n",
    "\n",
    "model.add(layers.Bidirectional(layers.LSTM(units=25,\n",
    "                         return_sequences=True)))\n",
    "\n",
    "model.add(layers.Bidirectional(layers.LSTM(units=25,\n",
    "                         return_sequences=True)))\n",
    "\n",
    "model.add(Conv1D(filters=25, kernel_size=3, padding='same', activation='relu'))\n",
    "\n",
    "model.add(MaxPooling1D(pool_size=2))\n",
    "\n",
    "model.add(layers.Bidirectional(layers.LSTM(units=25,)))\n",
    "\n",
    "\n",
    "\n",
    "model.add(Dense(64,activation='relu'))\n",
    "\n",
    "model.add(Dense(1, activation='sigmoid'))\n",
    "model.compile(loss='binary_crossentropy', optimizer='adam', metrics=['accuracy',keras_metrics.recall()])\n",
    "print(model.summary())"
   ]
  },
  {
   "cell_type": "code",
   "execution_count": 42,
   "id": "8f47165d",
   "metadata": {},
   "outputs": [],
   "source": [
    "# Recreating X_train\n",
    "X_train = kpreprocessing.sequence.pad_sequences(lst_text2seq, \n",
    "                    maxlen=25, padding=\"post\", truncating=\"post\")\n",
    "y = np.array(data['label'])\n",
    "#X_train, X_test, y_train, y_test = train_test_split(X_train, y, test_size=0.000001, random_state=0)\n",
    "# training = model.fit(x=X_train, y=y_train, batch_size=128, \n",
    "#                      epochs=10, shuffle=True, verbose=1, \n",
    "#                       validation_split=0.2)"
   ]
  },
  {
   "cell_type": "code",
   "execution_count": 45,
   "id": "af87f0f2",
   "metadata": {},
   "outputs": [
    {
     "name": "stdout",
     "output_type": "stream",
     "text": [
      "WARNING:tensorflow:`add_update` `inputs` kwarg has been deprecated. You no longer need to pass a value to `inputs` as it is being automatically inferred.\n",
      "WARNING:tensorflow:`add_update` `inputs` kwarg has been deprecated. You no longer need to pass a value to `inputs` as it is being automatically inferred.\n",
      "WARNING:tensorflow:`add_update` `inputs` kwarg has been deprecated. You no longer need to pass a value to `inputs` as it is being automatically inferred.\n",
      "WARNING:tensorflow:`add_update` `inputs` kwarg has been deprecated. You no longer need to pass a value to `inputs` as it is being automatically inferred.\n",
      "23444/23444 [==============================] - ETA: 0s - loss: 0.5963 - accuracy: 0.6718 - recall: 0.6864WARNING:tensorflow:`add_update` `inputs` kwarg has been deprecated. You no longer need to pass a value to `inputs` as it is being automatically inferred.\n",
      "WARNING:tensorflow:`add_update` `inputs` kwarg has been deprecated. You no longer need to pass a value to `inputs` as it is being automatically inferred.\n",
      "23444/23444 [==============================] - 583s 25ms/step - loss: 0.5963 - accuracy: 0.6718 - recall: 0.6864 - val_loss: 0.5623 - val_accuracy: 0.6982 - val_recall: 0.7122\n"
     ]
    }
   ],
   "source": [
    "training = model.fit(x=X_train, y=y_train, batch_size=16, \n",
    "                     epochs=1, shuffle=True, verbose=1,\n",
    "                    validation_split=0.1)"
   ]
  },
  {
   "cell_type": "code",
   "execution_count": 46,
   "id": "8ab5f60e",
   "metadata": {},
   "outputs": [
    {
     "name": "stdout",
     "output_type": "stream",
     "text": [
      "11722/11722 [==============================] - 298s 25ms/step - loss: 0.5502 - accuracy: 0.7064 - recall: 0.7181 - val_loss: 0.5524 - val_accuracy: 0.7053 - val_recall: 0.7228\n"
     ]
    }
   ],
   "source": [
    "training = model.fit(x=X_train, y=y_train, batch_size=32, \n",
    "                     epochs=1, shuffle=True, verbose=1,\n",
    "                    validation_split=0.1)"
   ]
  },
  {
   "cell_type": "code",
   "execution_count": 47,
   "id": "3d8caf87",
   "metadata": {},
   "outputs": [
    {
     "name": "stdout",
     "output_type": "stream",
     "text": [
      "5861/5861 [==============================] - 155s 26ms/step - loss: 0.5369 - accuracy: 0.7160 - recall: 0.7260 - val_loss: 0.5467 - val_accuracy: 0.7079 - val_recall: 0.7283\n"
     ]
    }
   ],
   "source": [
    "training = model.fit(x=X_train, y=y_train, batch_size=64, \n",
    "                     epochs=1, shuffle=True, verbose=1,\n",
    "                    validation_split=0.1)"
   ]
  },
  {
   "cell_type": "code",
   "execution_count": 48,
   "id": "336702cb",
   "metadata": {},
   "outputs": [
    {
     "name": "stdout",
     "output_type": "stream",
     "text": [
      "20839/20839 [==============================] - 537s 26ms/step - loss: 0.5363 - accuracy: 0.7164 - recall: 0.7297 - val_loss: 0.5411 - val_accuracy: 0.7137 - val_recall: 0.7309\n"
     ]
    }
   ],
   "source": [
    "training = model.fit(x=X_train, y=y_train, batch_size=16, \n",
    "                     epochs=1, shuffle=True, verbose=1,\n",
    "                    validation_split=0.2)"
   ]
  },
  {
   "cell_type": "code",
   "execution_count": 49,
   "id": "9780b15c",
   "metadata": {},
   "outputs": [
    {
     "name": "stdout",
     "output_type": "stream",
     "text": [
      "10420/10420 [==============================] - 280s 27ms/step - loss: 0.5205 - accuracy: 0.7270 - recall: 0.7327 - val_loss: 0.5368 - val_accuracy: 0.7162 - val_recall: 0.7335\n"
     ]
    }
   ],
   "source": [
    "training = model.fit(x=X_train, y=y_train, batch_size=32, \n",
    "                     epochs=1, shuffle=True, verbose=1,\n",
    "                    validation_split=0.2)"
   ]
  },
  {
   "cell_type": "code",
   "execution_count": 50,
   "id": "80392025",
   "metadata": {},
   "outputs": [
    {
     "name": "stdout",
     "output_type": "stream",
     "text": [
      "5210/5210 [==============================] - 146s 28ms/step - loss: 0.5074 - accuracy: 0.7353 - recall: 0.7348 - val_loss: 0.5382 - val_accuracy: 0.7166 - val_recall: 0.7367\n"
     ]
    }
   ],
   "source": [
    "training = model.fit(x=X_train, y=y_train, batch_size=64, \n",
    "                     epochs=1, shuffle=True, verbose=1,\n",
    "                    validation_split=0.2)"
   ]
  },
  {
   "cell_type": "code",
   "execution_count": null,
   "id": "5f114aeb",
   "metadata": {},
   "outputs": [],
   "source": []
  }
 ],
 "metadata": {
  "kernelspec": {
   "display_name": "Python 3",
   "language": "python",
   "name": "python3"
  },
  "language_info": {
   "codemirror_mode": {
    "name": "ipython",
    "version": 3
   },
   "file_extension": ".py",
   "mimetype": "text/x-python",
   "name": "python",
   "nbconvert_exporter": "python",
   "pygments_lexer": "ipython3",
   "version": "3.8.8"
  }
 },
 "nbformat": 4,
 "nbformat_minor": 5
}
